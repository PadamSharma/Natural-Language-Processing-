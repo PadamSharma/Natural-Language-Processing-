{
  "nbformat": 4,
  "nbformat_minor": 0,
  "metadata": {
    "colab": {
      "name": "Skip_Gram_try1.ipynb",
      "provenance": []
    },
    "kernelspec": {
      "name": "python3",
      "display_name": "Python 3"
    },
    "widgets": {
      "application/vnd.jupyter.widget-state+json": {
        "e06402cf530c49d6964fde4440733d25": {
          "model_module": "@jupyter-widgets/controls",
          "model_name": "HBoxModel",
          "state": {
            "_view_name": "HBoxView",
            "_dom_classes": [],
            "_model_name": "HBoxModel",
            "_view_module": "@jupyter-widgets/controls",
            "_model_module_version": "1.5.0",
            "_view_count": null,
            "_view_module_version": "1.5.0",
            "box_style": "",
            "layout": "IPY_MODEL_72236d76ec084705bcf8af104f3b6db2",
            "_model_module": "@jupyter-widgets/controls",
            "children": [
              "IPY_MODEL_70a96534209848638fdca56ffcf1956b",
              "IPY_MODEL_deab5c3bea0b40c49ff7da5a3105152e"
            ]
          }
        },
        "72236d76ec084705bcf8af104f3b6db2": {
          "model_module": "@jupyter-widgets/base",
          "model_name": "LayoutModel",
          "state": {
            "_view_name": "LayoutView",
            "grid_template_rows": null,
            "right": null,
            "justify_content": null,
            "_view_module": "@jupyter-widgets/base",
            "overflow": null,
            "_model_module_version": "1.2.0",
            "_view_count": null,
            "flex_flow": null,
            "width": null,
            "min_width": null,
            "border": null,
            "align_items": null,
            "bottom": null,
            "_model_module": "@jupyter-widgets/base",
            "top": null,
            "grid_column": null,
            "overflow_y": null,
            "overflow_x": null,
            "grid_auto_flow": null,
            "grid_area": null,
            "grid_template_columns": null,
            "flex": null,
            "_model_name": "LayoutModel",
            "justify_items": null,
            "grid_row": null,
            "max_height": null,
            "align_content": null,
            "visibility": null,
            "align_self": null,
            "height": null,
            "min_height": null,
            "padding": null,
            "grid_auto_rows": null,
            "grid_gap": null,
            "max_width": null,
            "order": null,
            "_view_module_version": "1.2.0",
            "grid_template_areas": null,
            "object_position": null,
            "object_fit": null,
            "grid_auto_columns": null,
            "margin": null,
            "display": null,
            "left": null
          }
        },
        "70a96534209848638fdca56ffcf1956b": {
          "model_module": "@jupyter-widgets/controls",
          "model_name": "FloatProgressModel",
          "state": {
            "_view_name": "ProgressView",
            "style": "IPY_MODEL_125e80ae2bdb40be84fb58c1e1c0ef29",
            "_dom_classes": [],
            "description": "100%",
            "_model_name": "FloatProgressModel",
            "bar_style": "success",
            "max": 100,
            "_view_module": "@jupyter-widgets/controls",
            "_model_module_version": "1.5.0",
            "value": 100,
            "_view_count": null,
            "_view_module_version": "1.5.0",
            "orientation": "horizontal",
            "min": 0,
            "description_tooltip": null,
            "_model_module": "@jupyter-widgets/controls",
            "layout": "IPY_MODEL_ea0485c1b2504524bdd4a3a5e0f3636d"
          }
        },
        "deab5c3bea0b40c49ff7da5a3105152e": {
          "model_module": "@jupyter-widgets/controls",
          "model_name": "HTMLModel",
          "state": {
            "_view_name": "HTMLView",
            "style": "IPY_MODEL_2cee144dfaa94fc6929d6e8ea8c0eabe",
            "_dom_classes": [],
            "description": "",
            "_model_name": "HTMLModel",
            "placeholder": "​",
            "_view_module": "@jupyter-widgets/controls",
            "_model_module_version": "1.5.0",
            "value": " 100/100 [20:36&lt;00:00, 12.36s/it]",
            "_view_count": null,
            "_view_module_version": "1.5.0",
            "description_tooltip": null,
            "_model_module": "@jupyter-widgets/controls",
            "layout": "IPY_MODEL_0cfe2fdaef194721894c84fd13cfa454"
          }
        },
        "125e80ae2bdb40be84fb58c1e1c0ef29": {
          "model_module": "@jupyter-widgets/controls",
          "model_name": "ProgressStyleModel",
          "state": {
            "_view_name": "StyleView",
            "_model_name": "ProgressStyleModel",
            "description_width": "initial",
            "_view_module": "@jupyter-widgets/base",
            "_model_module_version": "1.5.0",
            "_view_count": null,
            "_view_module_version": "1.2.0",
            "bar_color": null,
            "_model_module": "@jupyter-widgets/controls"
          }
        },
        "ea0485c1b2504524bdd4a3a5e0f3636d": {
          "model_module": "@jupyter-widgets/base",
          "model_name": "LayoutModel",
          "state": {
            "_view_name": "LayoutView",
            "grid_template_rows": null,
            "right": null,
            "justify_content": null,
            "_view_module": "@jupyter-widgets/base",
            "overflow": null,
            "_model_module_version": "1.2.0",
            "_view_count": null,
            "flex_flow": null,
            "width": null,
            "min_width": null,
            "border": null,
            "align_items": null,
            "bottom": null,
            "_model_module": "@jupyter-widgets/base",
            "top": null,
            "grid_column": null,
            "overflow_y": null,
            "overflow_x": null,
            "grid_auto_flow": null,
            "grid_area": null,
            "grid_template_columns": null,
            "flex": null,
            "_model_name": "LayoutModel",
            "justify_items": null,
            "grid_row": null,
            "max_height": null,
            "align_content": null,
            "visibility": null,
            "align_self": null,
            "height": null,
            "min_height": null,
            "padding": null,
            "grid_auto_rows": null,
            "grid_gap": null,
            "max_width": null,
            "order": null,
            "_view_module_version": "1.2.0",
            "grid_template_areas": null,
            "object_position": null,
            "object_fit": null,
            "grid_auto_columns": null,
            "margin": null,
            "display": null,
            "left": null
          }
        },
        "2cee144dfaa94fc6929d6e8ea8c0eabe": {
          "model_module": "@jupyter-widgets/controls",
          "model_name": "DescriptionStyleModel",
          "state": {
            "_view_name": "StyleView",
            "_model_name": "DescriptionStyleModel",
            "description_width": "",
            "_view_module": "@jupyter-widgets/base",
            "_model_module_version": "1.5.0",
            "_view_count": null,
            "_view_module_version": "1.2.0",
            "_model_module": "@jupyter-widgets/controls"
          }
        },
        "0cfe2fdaef194721894c84fd13cfa454": {
          "model_module": "@jupyter-widgets/base",
          "model_name": "LayoutModel",
          "state": {
            "_view_name": "LayoutView",
            "grid_template_rows": null,
            "right": null,
            "justify_content": null,
            "_view_module": "@jupyter-widgets/base",
            "overflow": null,
            "_model_module_version": "1.2.0",
            "_view_count": null,
            "flex_flow": null,
            "width": null,
            "min_width": null,
            "border": null,
            "align_items": null,
            "bottom": null,
            "_model_module": "@jupyter-widgets/base",
            "top": null,
            "grid_column": null,
            "overflow_y": null,
            "overflow_x": null,
            "grid_auto_flow": null,
            "grid_area": null,
            "grid_template_columns": null,
            "flex": null,
            "_model_name": "LayoutModel",
            "justify_items": null,
            "grid_row": null,
            "max_height": null,
            "align_content": null,
            "visibility": null,
            "align_self": null,
            "height": null,
            "min_height": null,
            "padding": null,
            "grid_auto_rows": null,
            "grid_gap": null,
            "max_width": null,
            "order": null,
            "_view_module_version": "1.2.0",
            "grid_template_areas": null,
            "object_position": null,
            "object_fit": null,
            "grid_auto_columns": null,
            "margin": null,
            "display": null,
            "left": null
          }
        }
      }
    }
  },
  "cells": [
    {
      "cell_type": "code",
      "metadata": {
        "id": "uK6Z5yERRQ3Z"
      },
      "source": [
        "# !touch n1.txt"
      ],
      "execution_count": null,
      "outputs": []
    },
    {
      "cell_type": "code",
      "metadata": {
        "id": "hUCKFrmgaY0m"
      },
      "source": [
        "with open('/content/n1.txt') as f:\n",
        "  data=f.read()"
      ],
      "execution_count": null,
      "outputs": []
    },
    {
      "cell_type": "code",
      "metadata": {
        "id": "vuQB4OSibt4T",
        "colab": {
          "base_uri": "https://localhost:8080/",
          "height": 192
        },
        "outputId": "eb0054df-d37f-4758-8a45-63ca471930c1"
      },
      "source": [
        "data"
      ],
      "execution_count": null,
      "outputs": [
        {
          "output_type": "execute_result",
          "data": {
            "application/vnd.google.colaboratory.intrinsic+json": {
              "type": "string"
            },
            "text/plain": [
              "'The Adventure of the Three Gables\\n  I don\\'t think that any of my adventures with Mr. Sherlock\\nHolmes opened quite so abruptly, or so dramatically, as that\\nwhich I associate with The Three Gables. I had not seen Holmes\\nfor some days and had no idea of the new channel into which his\\nactivities had been directed. He was in a chatty mood that\\nmorning, however, and had just settled me into the well-worn\\nlow armchair on one side of the fire, while he had curled down\\nwith his pipe in his mouth upon the opposite chair, when our\\nvisitor arrived. If I had said that a mad bull had arrived it would\\ngive a clearer impression of what occurred.\\n  The door had flown open and a huge negro had burst into the\\nroom. He would have been a comic figure if he had not been\\nterrific, for he was dressed in a very loud gray check suit with a\\nflowing salmon-coloured tie. His broad face and flattened nose\\nwere thrust forward, as his sullen dark eyes, with a smouldering\\ngleam of malice in them, turned from one of us to the other.\\n  \"Which of you gen\\'l\\'men is Masser Holmes?\" he asked.\\n  Holmes raised his pipe with a languid smile.\\n  \"Oh! it\\'s you, is it?\" said our visitor, coming with an un-\\npleasant, stealthy step round the angle of the table. \"See here,\\nMasser Holmes, you keep your hands out of other folks\\' busi-\\nness. Leave folks to manage their own affairs. Got that, Masser\\nHolmes?\"\\n  \"Keep on talking,\" said Holmes. \"It\\'s fine.\"\\n  \"Oh! it\\'s fine, is it?\" growled the savage. \"It won\\'t be so\\ndamn fine if I have to trim you up a bit. I\\'ve handled your kind\\nbefore now, and they didn\\'t look fine when I was through with\\nthem. Look at that, Masser Holmes!\"\\n  He swung a huge knotted lump of a fist under my friend\\'s\\nnose. Holmes examined it closely with an air of great interest.\\n  \"Were you born so?\" he asked. \"Or did it come by degrees?\"\\n  It may have been the icy coolness of my friend, or it may have\\nbeen the slight clatter which I made as I picked up the poker. In\\nany case, our visitor\\'s manner became less flamboyant.\\n  \"Well, I\\'ve given you fair warnin\\',\" said he. \"I\\'ve a friend\\nthat\\'s interested out Harrow way -- you know what I\\'m meaning --\\nand he don\\'t intend to have no buttin\\' in by you. Got that? You\\nain\\'t the law, and I ain\\'t the law either, and if you come in I\\'ll\\nbe on hand also. Don\\'t you forget it.\"\\n  \"I\\'ve wanted to meet you for some time,\" said Holmes. \"I\\nwon\\'t ask you to sit down, for I don\\'t like the smell of you, but\\naren\\'t you Steve Dixie, the bruiser?\"\\n  \"That\\'s my name, Masser Holmes, and you\\'ll get put through\\nit for sure if you give me any lip.\"\\n  \"It is certainly the last thing you need,\" said Holmes, staring\\nat our visitor\\'s hideous mouth. \"But it was the killing of young\\nPerkins outside the Holborn -- Bar What! you\\'re not going?\"\\n  The negro had sprung back, and his face was leaden. \"I won\\'t\\nlisten to no such talk,\" said he. \"What have I to do with this \\'ere\\nPerkins, Masser Holmes? I was trainin\\' at the Bull Ring in\\nBirmingham when this boy done gone get into trouble.\"\\n  \"Yes, you\\'ll tell the magistrate about it, Steve,\" said Holmes.\\n\"I\\'ve been watching you and Barney Stockdale --\"\\n  \"So help me the Lord! Masser Holmes --\"\\n  \"That\\'s enough. Get out of it. I\\'ll pick you up when I want\\nyou.\"\\n  \"Good-mornin\\', Masser Holmes. I hope there ain\\'t no hard\\nfeelin\\'s about this \\'ere visit?\"\\n  \"There will be unless you tell me who sent you.\"\\n  \"Why, there ain\\'t no secret about that, Masser Holmes. It was\\nthat same gen\\'l\\'man that you have just done gone mention.\"\\n  \"And who set him on to it?\"\\n  \"S\\'elp me. I don\\'t know, Masser Holmes. He just say,\\n\\'Steve, you go see Mr. Holmes, and tell him his life ain\\'t\\nsafe if he go down Harrow way.\\' That\\'s the whole truth.\"\\nWithout waiting for any further questioning, our visitor bolted\\nout of the room almost as precipitately as he had entered.\\nHolmes knocked out the ashes of his pipe with a quiet chuckle.\\n  \"I am glad you were not forced to break his woolly head,\\nWatson. I observed your manoeuvres with the poker. But he is\\nreally rather a harmless fellow, a great muscular, foolish, blus-\\ntering baby, and easily cowed, as you have seen. He is one\\nof the Spencer John gang and has taken part in some dirty\\nwork of late which I may clear up when I have time. His\\nimmediate principal, Barney, is a more astute person. They\\nspecialize in assaults, intimidation, and the like. What I want\\nto know is, who is at the back of them on this panicular\\noccasion?\"\\n  \"But why do they want to intimidate you?\"\\n  \"It is this Harrow Weald case. It decides me to look into the\\nmatter, for if it is worth anyone\\'s while to take so much trouble,\\nthere must be something in it.\"\\n  \"But what is it?\"\\n  \"I was going to tell you when we had this comic interlude.\\nHere is Mrs. Maberley\\'s note. If you care to come with me we\\nwill wire her and go out at once.\"\\n\\n     DEAR MR. SHERLOCK HOLMES [I read]:\\n       I have had a succession of strange incidents occur to me\\n     in connection with this house, and I should much value your\\n     advice. You would find me at home any time to-morrow.\\n     The house is within a short walk of the Weald Station. I\\n     believe that my late husband, Mortimer Maberley, was one\\n     of your early clients.\\n                                            Yours faithfully,\\n                                               MARY MABERLEY.\\n\\n  The address was \"The Three Gables, Harrow Weald.\"\\n  \"So that\\'s that!\" said Holmes. \"And now, if you can spare\\nthe time, Watson, we will get upon our way.\"\\n  A short railway journey, and a shorter drive, brought us to the\\nhouse, a brick and timber villa, standing in its own acre of\\nundeveloped grassland. Three small projections above. the upper\\nwindows made a feeble attempt to justify its name. Behind was a\\ngrove of melancholy, half-grown pines, and the whole aspect of\\nthe place was poor and depressing. None the less, we found the\\nhouse to be well furnished, and the lady who received us was a\\nmost engaging elderly person, who bore every mark of refine-\\nment and culture.\\n  \"I remember your husband well, madam,\" said Holmes,\\n\"though it is some years since he used my services in some\\ntrifling matter.\"\\n  \"Probably you would be more familiar with the name of my\\nson Douglas.\"\\n  Holmes looked at her with great interest.\\n  \"Dear me! Are you the mother of Douglas Maberley? I knew\\nhim slightly. But of course all London knew him. What a\\nmagnificent creature he was! Where is he now?\"\\n  \"Dead, Mr. Holmes, dead! He was attache at Rome, and he\\ndied there of pneumonia last month.\"\\n  \"I am sorry. One could not connect death with such a man. I\\nhave never known anyone so vitally alive. He lived intensely --\\nevery fibre of him!\"\\n  \"Too intensely, Mr. Holmes. That was the ruin of him. You\\nremember him as he was -- debonair and splendid. You did not\\nsee the moody, morose, brooding creature into which he devel-\\noped. His heart was broken. In a single month I seemed to see\\nmy gallant boy turn into a worn-out cynical man.\"\\n  \"A love affair -- a woman?\"\\n  \"Or a fiend. Well, it was not to talk of my poor lad that I\\nasked you to come, Mr. Holmes.\"\\n  \"Dr. Watson and I are at your service.\"\\n  \"There have been some very strange happenings. I have been\\nin this house more than a year now, and as I wished to lead a\\nretired life I have seen little of my neighbours. Three days ago I\\nhad a call from a man who said that he was a house agent. He\\nsaid that this house would exactly suit a client of his, and that if I\\nwould part with it money would be no object. It seemed to me\\nvery strange as there are several empty houses on the market\\nwhich appear to be equally eligible, but naturally I was interested\\nin what he said. I therefore named a price which was five\\nhundred pounds more than I gave. He at once closed with the\\noffer, but added that his client desired to buy the furniture as\\nwell and would I put a price upon it. Some of this furniture is\\nfrom my old home, and it is, as you see, very good, so that I\\nnamed a good round sum. To this also he at once agreed. I had\\nalways wanted to travel, and the bargain was so good a one that\\nit really seemed that I should be my own mistress for the rest of\\nmy life.\\n  \"Yesterday the man arrived with the agreement all drawn out.\\nLuckily I showed it to Mr. Sutro, my lawyer, who lives in\\nHarrow. He said to me, \\'This is a very strange document. Are\\nyou aware that if you sign it you could not legally take anything\\nout of the house -- not even your own private possessions?\\' When\\nthe man came again in the evening I pointed this out, and I said\\nthat I meant only to sell the furniture.\\n  \" \\'No, no, everything,\\' said he.\\n  \" \\'But my clothes? My jewels?\\'\\n  \" \\'Well, well, some concession might be made for your per-\\nsonal effects. But nothing shall go out of the house unchecked.\\nMy client is a very liberal man, but he has his fads and his own\\nway of doing things. It is everything or nothing with him.\\'\\n  \" \\'Then it must be nothing,\\' said I. And there the matter was\\nleft, but the whole thing seemed to me to be so unusual that I\\nthought --\"\\n  Here we had a very extraordinary interruption.\\n  Holmes raised his hand for silence. Then he strode across the\\nroom, flung open the door, and dragged in a great gaunt woman\\nwhom he had seized by the shoulder. She entered with ungainly\\nstruggle like some huge awkward chicken, torn, squawking, out\\nof its coop.\\n  \"Leave me alone! What are you a-doin\\' of?\" she screeched.\\n  \"Why, Susan, what is this?\"\\n  \"Well, ma\\'am, I was comin\\' in to ask if the visitors was\\nstayin\\' for lunch when this man jumped out at me.\"\\n  \"I have been listening to her for the last five minutes, but did\\nnot wish to interrupt your most interesting narrative. Just a little\\nwheezy, Susan, are you not? You breathe too heavily for that\\nkind of work.\"\\n  Susan turned a sulky but amazed face upon her captor. \"Who\\nbe you, anyhow, and what right have you a-pullin\\' me about like\\nthis?\"\\n  \"It was merely that I wished to ask a question in your\\npresence. Did you, Mrs. Maberley, mention to anyone that you\\nwere going to write to me and consult me?\"\\n  \"No, Mr. Holmes, I did not.\"\\n  \"Who posted your letter?\"\\n  \"Susan did.\"\\n  \"Exactly. Now, Susan, to whom was it that you wrote or sent\\na message to say that your mistress was asking advice from\\nme?\"\\n  \"It\\'s a lie. I sent no message.\"\\n  \"Now, Susan, wheezy people may not live long, you know.\\nIt\\'s a wicked thing to tell fibs. Whom did you tell?\"\\n  \"Susan!\" cried her mistress, \"I believe you are a bad, treach-\\nerous woman. I remember now that I saw you speaking to\\nsomeone over the hedge.\"\\n  \"That was my own business,\" said the woman sullenly.\\n  \"Suppose I tell you that it was Barney Stockdale to whom you\\nspoke?\" said Holmes.\\n  \"Well, if you know, what do you want to ask for?\"\\n  \"I was not sure, but I know now. Well now, Susan, it will be\\nworth ten pounds to you if you will tell me who is at the back of\\nBarney.\"\\n  \"Someone that could lay down a thousand pounds for every\\nten you have in the world.\"\\n  \"So, a rich man? No; you smiled -- a rich woman. Now we\\nhave got so far, you may as well give the name and earn the\\ntenner.\"\\n  \"I\\'ll see you in hell first.\"\\n  \"Oh, Susan! Language!\"\\n  \"I am clearing out of here. I\\'ve had enough of you all. I\\'ll\\nsend for my box to-morrow.\" She flounced for the door.\\n  \"Good-bye, Susan. Paregoric is the stuff.... Now,\" he\\ncontinued, turning suddenly from lively to severe when the door\\nhad closed behind the flushed and angry woman, \"this gang\\nmeans business. Look how close they play the game. Your letter\\nto me had the 10 P.M. postmark. And yet Susan passes the word\\nto Barney. Barney has time to go to his employer and get\\ninstructions; he or she -- I incline to the latter from Susan\\'s grin\\nwhen she thought I had blundered -- forms a plan. Black Steve is\\ncalled in, and I am warned off by eleven o\\'clock next morning.\\nThat\\'s quick work, you know.\"\\n  \"But what do they want?\"\\n  \"Yes, that\\'s the question. Who had the house before you?\"\\n  \"A retired sea captain called Ferguson.\"\\n  \"Anything remarkable about him?\"\\n  \"Not that ever I heard of.\"\\n  \"I was wondering whether he could have buried something.\\nOf course, when people bury treasure nowadays they do it in the\\nPost-Office bank. But there are always some lunatics about. It\\nwould be a dull world without them. At first I thought of some\\nburied valuable. But why, in that case, should they want your\\nfurniture? You don\\'t happen to have a Raphael or a first folio\\nShakespeare without knowing it?\"\\n  \"No, I don\\'t think I have anything rarer than a Crown Derby\\ntea-set.\"\\n  \"That would hardly justify all this mystery. Besides, why\\nshould they not openly state what they want? If they covet your\\ntea-set, they can surely offer a price for it without buying you\\nout, lock, stock, and barrel. No, as I read it, there is something\\nwhich you do not know that you have, and which you would not\\ngive up if you did know.\"\\n  \"That is how I read it,\" said I.\\n  \"Dr. Watson agrees, so that settles it.\"\\n  \"Well, Mr. Holmes, what can it be?\"\\n  \"Let us see whether by this purely mental analysis we can get\\nit to a finer point. You have been in this house a year.\"\\n  \"Nearly two.\"\\n  \"All the better. During this long period no one wants anything\\nfrom you. Now suddenly within three or four days you have\\nurgent demands. What would you gather from that?\"\\n  \"It can only mean,\" said I, \"that the object, whatever it may\\nbe, has only just come into the house.\"\\n  \"Settled once again,\" said Holmes. \"Now, Mrs. Maberley\\nhas any object just arrived?\"\\n  \"No, I have bought nothing new this year.\"\\n  \"Indeed! That is very remarkable. Well, I think we had best\\nlet matters develop a little further until we have clearer data. Is\\nthat lawyer of yours a capable man?\"\\n  \"Mr. Sutro is most capable.\"\\n  \"Have you another maid, or was the fair Susan, who has just\\nbanged your front door alone?\"\\n  \"I have a young girl.\"\\n  \"Try and get Sutro to spend a night or two in the house. You\\nmight possibly want protection.\"\\n  \"Against whom?\"\\n  \"Who knows? The matter is certainly obscure. If I can\\'t find\\nwhat they are after, I must approach the matter from the other\\nend and try to get at the principal. Did this house-agent man give\\nany address?\"\\n  \"Simply his card and occupation. Haines-Johnson, Auctioneer\\nand Valuer.\"\\n  \"I don\\'t think we shall find him in the directory. Honest\\nbusiness men don\\'t conceal their place of business. Well, you\\nwill let me know any fresh development. I have taken up your\\ncase, and you may rely upon it that I shall see it through.\"\\n  As we passed through the hall Holmes\\'s eyes, which missed\\nnothing, lighted upon several trunks and cases which were piled\\nin a corner. The labels shone out upon them.\\n  \" \\'Milano.\\' \\'Lucerne.\\' These are from Italy.\"\\n  \"They are poor Douglas\\'s things.\"\\n  \"You have not unpacked them? How long have you had\\nthem?\"\\n  \"They arrived last week.\"\\n  \"But you said -- why, surely this might be the missing link.\\nHow do we know that there is not something of value there?\"\\n  \"There could not possibly be, Mr. Holmes. Poor Douglas had\\nonly his pay and a small annuity. What could he have of value?\"\\n  Holmes was lost in thought.\\n  \"Delay no longer, Mrs. Maberley,\" he said at last. \"Have\\nthese things taken upstairs to your bedroom. Examine them as\\nsoon as possible and see what they cohtain. I will come to-\\nmorrow and hear your report.\"\\n  It was quite evident that The Three Gables was under very\\nclose surveillance, for as we came round the high hedge at the\\nend of the lane there was the negro prize-fighter standing in the\\nshadow. We came on him quite suddenly, and a grim and\\nmenacing figure he looked in that lonely place. Holmes clapped\\nhis hand to his pocket.\\n  \"Lookin\\' for your gun, Masser Holmes?\"\\n  \"No, for my scent-bottle, Steve.\"\\n  \"You are funny, Masser Holmes, ain\\'t you?\"\\n  \"It won\\'t be funny for you, Steve, if I get after you. I gave\\nyou fair warning this morning.\"\\n  \"Well, Masser Holmes, I done gone think over what you said,\\nand I don\\'t want no more talk about that affair of Masser\\nPerkins. S\\'pose I can help you, Masser Holmes, I will.\"\\n  \"Well, then, tell me who is behind you on this job.\"\\n  \"So help me the Lord! Masser Holmes, I told you the truth\\nbefore. I don\\'t know. My boss Barney gives me orders and that\\'s\\nall.\"\\n  \"Well, just bear in mind, Steve, that the lady in that house,\\nand everything under that roof, is under my protection. Don\\'t\\nforget it.\"\\n  \"All right, Masser Holmes. I\\'ll remember.\"\\n  \"I\\'ve got him thoroughly frightened for his own skin, Wat-\\nson,\" Holmes remarked as we walked on. \"I think he would\\ndouble-cross his employer if he knew who he was. It was lucky I\\nhad some knowledge of the Spencer John crowd, and that Steve\\nwas one of them. Now, Watson, this is a case for Langdale Pike,\\nand I am going to see him now. When I get back I may be\\nclearer in the matter.\"\\n  I saw no more of Holmes during the day, but I could well\\nimagine how he spent it, for Langdale Pike was his human\\nbook of reference upon all matters of social scandal. This\\nstrange, languid creature spent his waking hours in the bow\\nwindow of a St. James\\'s Street club and was the receiving-\\nstation as well as the transmitter for all the gossip of the\\nmetropolis. He made, it was said, a four-figure income by\\nthe paragraphs which he contributed every week to the gar-\\nbage papers which cater to an inquisitive public. If ever, far\\ndown in the turbid depths of London life, there was some\\nstrange swirl or eddy, it was marked with automatic exact-\\nness by this human dial upon the surface. Holmes discreetly\\nhelped Langdale to knowledge, and on occasion was helped in\\nturn.\\n  When I met my friend in his room early next morning, I was\\nconscious from his bearing that all was well, but none the less a\\nmost unpleasant surprise was awaiting us. It took the shape of\\nthe following telegram.\\n\\n       Please come out at once. Client\\'s house burgled in the\\n     night. Police in possession.\\n                           SUTRO.\\n  Holmes whistled. \"The drama has come to a crisis, and\\nquicker than I had expected. There is a great driving-power at\\nthe back of this business, Watson, which does not surprise me\\nafter what I have heard. This Sutro, of course, is her lawyer. I\\nmade a mistake, I fear, in not asking you to spend the night on\\nguard. This fellow has clearly proved a broken reed. Well, there\\nis nothing for it but another journey to Harrow Weald.\"\\n  We found The Three Gables a very different establishment to\\nthe orderly household of the previous day. A small group of\\nidlers had assembled at the garden gate, while a couple of\\nconstables were examining the windows and the geranium beds.\\nWithin we met a gray old gentleman, who introduced himself as\\nthe lawyer together with a bustling, rubicund inspector, who\\ngreeted Hoimes as an old friend.\\n  \"Well, Mr. Holmes, no chance for you in this case, I\\'m\\nafraid. Just a common, ordinary burglary, and well within the\\ncapacity of the poor old police. No experts need apply.\"\\n  \"I am sure the case is in very good hands,\" said Holmes.\\n\"Merely a common burglary, you say?\"\\n  \"Quite so. We know pretty well who the men are and where\\nto find them. It is that gang of Barney Stockdale, with the big\\nnigger in it -- they\\'ve been seen about here.\"\\n  \"Excellent! What did they get?\"\\n  \"Well, they don\\'t seem to have got much. Mrs. Maberley was\\nchloroformed and the house was -- Ah! here is the lady herself.\"\\n  Our friend of yesterday, looking very pale and ill, had entered\\nthe room, leaning upon a little maidservant.\\n  \"You gave me good advice, Mr. Holmes,\" said she, smiling\\nruefully. \"Alas, I did not take it! I did not wish to trouble Mr.\\nSutro, and so I was unprotected.\"\\n  \"I only heard of it this morning,\" the lawyer explained.\\n  \"Mr. Holmes advised me to have some friend in the house. I\\nneglected his advice, and I have paid for it.\"\\n  \"You look wretchedly ill,\" said Holmes. \"Perhaps you are\\nhardly equal to telling me what occurred.\"\\n  \"It is all here,\" said the inspector, tapping a bulky notebook.\\n  \"Still, if the lady is not too exhausted --\"\\n  \"There is really so little to tell. I have no doubt that wicked\\nSusan had planned an entrance for them. They must have known\\nthe house to an inch. I was conscious for a moment of the\\nchloroform rag which was thrust over my mouth, but I have no\\nnotion how long I may have been senseless. When I woke, one\\nman was at the bedside and another was rising with a bundle in\\nhis hand from among my son\\'s baggage, which was partially\\nopened and littered over the floor. Before he could get away I\\nsprang up and seized him.\"\\n  \"You took a big risk,\" said the inspector.\\n  \"I clung to him, but he shook me off, and the other may have\\nstruck me, for I can remember no more. Mary the maid heard the\\nnoise and began screaming out of the window. That brought the\\npolice, but the rascals had got away.\"\\n  \"What did they take?\"\\n  \"Well, I don\\'t think there is anything of value missing. I am\\nsure there was nothing in my son\\'s trunks.\"\\n  \"Did the men leave no clue?\"\\n  \"There was one sheet of paper which I may have torn from\\nthe man that I grasped. It was lying all crumpled on the floor. It\\nis in my son\\'s handwriting.\"\\n  \"Which means that it is not of much use,\" said the inspector.\\n\"Now if it had been in the burglar\\'s --\"\\n  \"Exactly,\" said Holmes. \"What rugged common sense! None\\nthe less, I should be curious to see it.\"\\n  The inspector drew a folded sheet of foolscap from his\\npocketbook.\\n  \"I never pass anything, however trifling,\" said he with some\\npomposity. \"That is my advice to you, Mr. Holmes. In twenty-\\nfive years\\' experience I have learned my lesson. There is always\\nthe chance of finger-marks or something.\"\\n  Holmes inspected the sheet of paper.\\n  \"What do you make of it, Inspector?\"\\n  \"Seems to be the end of some queer novel, so far as I can\\nsee.\"\\n  \"It may certainly prove to be the end of a queer tale,\" said\\nHolmes. \"You have noticed the number on the top of the page.\\nIt is two hundred and forty-five. Where are the odd two hundred\\nand forty-four pages?\"\\n  \"Well, I suppose the burglars got those. Much good may it do\\nthem!\"\\n  \"It seems a queer thing to break into a house in order to steal\\nsuch papers as that. Does it suggest anything to you, Inspector?\"\\n  \"Yes, sir, it suggests that in their hurry the rascals just\\ngrabbed at what came first to hand. I wish them joy of what they\\ngot.\"\\n  \"Why should they go to my son\\'s things?\" asked Mrs.\\nMaberley.\\n  \"Well, they found nothing valuable downstairs, so they tried\\ntheir luck upstairs. That is how I read it. What do you make of\\nit, Mr. Holmes?\"\\n  \"I must think it over, Inspector. Come to the window, Wat-\\nson.\" Then, as we stood together, he read over the fragment of\\npaper. It began in the middle of a sentence and ran like this:\\n\\n       \". . . face bled considerably from the cuts and blows,\\n     but it was nothing to the bleeding of his heart as he saw that\\n     lovely face, the face for which he had been prepared to\\n     sacrifice his very life, looking out at his agony and humilia-\\n     tion. She smiled -- yes, by Heaven! she smiled, like the\\n     heartless fiend she was, as he looked up at her. It was at\\n     that moment that love died and hate was born. Man must\\n     live for something. If it is not for your embrace, my lady,\\n     then it shall surely be for your undoing and my complete\\n     revenge.\"\\n\\n  \"Queer grammar!\" said Holmes with a smile as he handed the\\npaper back to the inspector. \"Did you notice how the \\'he\\'\\nsuddenly changed to \\'my\\'? The writer was so carried away by\\nhis own story that he imagined himself at the supreme moment to\\nbe the hero.\"\\n  \"It seemed mighty poor stuff,\" said the inspector as he re-\\nplaced it in his book. \"What! are you off, Mr. Holmes?\"\\n  \"I don\\'t think there is anything more for me to do now that\\nthe case is in such capable hands. By the way, Mrs. Maberley,\\ndid you say you wished to travel?\"\\n  \"It has always been my dream, Mr. Holmes.\"\\n  \"Where would you like to go -- Cairo, Madeira, the Riviera?\"\\n  \"Oh if I had the money I would go round the world.\"\\n  \"Quite so. Round the world. Well, good-morning. I may drop\\nyou a line in the evening.\" As we passed the window I caught a\\nglimpse of the inspector\\'s smile and shake of the head. \"These\\nclever fellows have always a touch of madness.\" That was what\\nI read in the inspector\\'s smile.\\n  \"Now, Watson, we are at the last lap of our little journey,\"\\nsaid Holmes when we were back in the roar of central London\\nonce more. \"I think we had best clear the matter up at once, and\\nit would be well that you should come with me, for it is safer to\\nhave a witness when you are dealing with such a lady as Isadora\\nKlein.\"\\n  We had taken a cab and were speeding to some address in\\nGrosvenor Square. Holmes had been sunk in thought, but he\\nroused himself suddenly.\\n  \"By the way, Watson, I suppose you see it all clearly?\"\\n  \"No, I can\\'t say that I do. I only gather that we are going to\\nsee the lady who is behind all this mischief.\"\\n  \"Exactly! But does the name Isadora Klein convey nothing to\\nyou? She was, of course, the celebrated beauty. There was never\\na woman to touch her. She is pure Spanish, the real blood of the\\nmasterfui Conquistadors, and her people have been leaders in\\nPernambuco for generations. She married the aged German sugar\\nking, Klein, and presently found herself the richest as well as the\\nmost lovely widow upon earth. Then there was an interval of\\nadventure when she pleased her own tastes. She had several\\nlovers, and Douglas Maberley, one of the most striking men in\\nLondon, was one of them. It was by all accounts more than an\\nadventure with him. He was not a society butterfly but a strong,\\nproud man who gave and expected all. But she is the \\'belle dame\\nsans merci\\' of fiction. When her caprice is satisfied the matter is\\nended, and if the other party in the matter can\\'t take her word\\nfor it she knows how to bring it home to him.\"\\n  \"Then that was his own story --\"\\n  \"Ah! you are piecing it together now. I hear that she is about\\nto marry the young Duke of Lomond, who might almost be her\\nson. His Grace\\'s ma might overlook the age, but a big scandal\\nwould be a different matter, so it is imperative -- Ah! here we\\nare.\"\\n  It was one of the finest corner-houses of the West End. A\\nmachine-like footman took up our cards and returned with word\\nthat the lady was not at home. \"Then we shall wait until she is,\"\\nsaid Holmes cheerfully.\\n  The machine broke down.\\n  \"Not at home means not at home to you,\" said the footman.\\n  \"Good,\" Holmes answered. \"That means that we shall not\\nhave to wait. Kindly give this note to your mistress.\"\\n  He scribbled three or four words upon a sheet of his notebook,\\nfolded it, and handed it to the man.\\n  \"What did you say, Holmes?\" I asked.\\n  \"I simply wrote: \\'Shall it be the police, then?\\' I think that\\nshould pass us in.\"\\n  It did -- with amazing celerity. A minute later we were in an\\nArabian Nights drawing-room, vast and wonderful, in a half\\ngloom, picked out with an occasional pink electric light. The\\nlady had come, I felt, to that time of life when even the proudest\\nbeauty finds the half light more welcome. She rose from a settee\\nas we entered: tall, queenly, a perfect figure, a lovely mask-like\\nface, with two wonderful Spanish eyes which looked murder at\\nus both.\\n  \"What is this intrusion -- and this insulting message?\" she\\nasked, holding up the slip of paper.\\n  \"I need not explain, madame. I have too much respect for\\nyour intelligence to do so -- though I confess that intelligence has\\nbeen surprisingly at fault of late.\"\\n  \"How so, sir?\"\\n  \"By supposing that your hired bullies could frighten me from\\nmy work. Surely no man would take up my profession if it were\\nnot that danger attracts him. It was you, then, who forced me to\\nexamine the case of young Maberley.\"\\n  \"I have no idea what you are talking about. What have I to do\\nwith hired bullies?\"\\n  Holmes turned away wearily.\\n  \"Yes, I have underrated your intelligence. Well, good-after-\\nnoon!\"\\n  \"Stop! Where are you going?\"\\n  \"To Scotland Yard.\"\\n  We had not got halfway to the door before she had overtaken\\nus and was holding his arm. She had turned in a moment from\\nsteel to velvet.\\n  \"Come and sit down, gentlemen. Let us talk this matter over.\\nI feel that I may be frank with you, Mr. Holmes. You have the\\nfeelings of a gentleman. How quick a woman\\'s instinct is to find\\nit out. I will treat you as a friend.\"\\n  \"I cannot promise to reciprocate, madame. I am not the law,\\nbut I represent justice so far as my feeble powers go. I am ready\\nto listen, and then I will tell you how I will act.\"\\n  \"No doubt it was foolish of me to threaten a brave man like\\nyourself.\"\\n  \"What was really foolish, madame, is that you have placed\\nyourself in the power of a band of rascals who may blackmail or\\ngive you away.\"\\n  \"No, no! I am not so simple. Since I have promised to be\\nfrank, I may say that no one, save Barney Stockdale and Susan,\\nhis wife, have the least idea who their employer is. As to them,\\nwell, it is not the first --\" She smiled and nodded with a\\ncharming coquettish intimacy.\\n  \"l see. You\\'ve tested them before.\"\\n  \"They are good hounds who run silent.\"\\n  \"Such hounds have a way sooner or later of biting the hand\\nthat feeds them. They will be arrested for this burglary. The\\npolice are already after them.\"\\n  \"They will take what comes to them. That is what they are\\npaid for. I shall not appear in the matter.\"\\n  \"Unless I bring you into it.\"\\n  \"No, no, you would not. You are a gentleman. It is a wom-\\nan\\'s secret.\"\\n  \"In the first place, you must give back this manuscript.\"\\n  She broke into a ripple of laughter and walked to the fireplace.\\nThere was a calcined mass which she broke up with the poker.\\n\"Shall I give this back?\" she asked. So roguish and exquisite\\ndid she look as she stood before us with a challenging smile that\\nI felt of all Holmes\\'s criminals this was the one whom he would\\nfind it hardest to face. However, he was immune from sentiment.\\n  \"That seals your fate,\" he said coldly. \"You are very prompt\\nin your actions, madame, but you have overdone it on this\\noccasion.\"\\n  She threw the poker down with a clatter.\\n  \"How hard you are!\" she cried. \"May I tell you the whole\\nstory?\"\\n  \"I fancy I could tell it to you.\"\\n  \"But you must look at it with my eyes, Mr. Holmes. You\\nmust realize it from the point of view of a woman who sees all\\nher life\\'s ambition about to be ruined at the last moment. Is such\\na woman to be blamed if she protects herself?\"\\n  \"The original sin was yours.\"\\n  \"Yes, yes! I admit it. He was a dear boy, Douglas, but it so\\nchanced that he could not fit into my plans. He wanted marriage --\\nmarriage, Mr. Holmes -- with a penniless commoner. Nothing\\nless would serve him. Then he became pertinacious. Because I\\nhad given he seemed to think that I still must give, and to him\\nonly. It was intolerable. At last I had to make him realize it.\"\\n  \"By hiring ruffians to beat him under your own window.\"\\n  \"You do indeed seem to know everything. Well, it is true.\\nBarney and the boys drove him away, and were, I admit, a little\\nrough in doing so. But what did he do then? Could I have\\nbelieved that a gentleman would do such an act? He wrote a\\nbook in which he described his own story. I, of course, was the\\nwolf; he the lamb. It was all there, under different names, of\\ncourse; but who in all London would have failed to recognize it?\\nWhat do you say to that, Mr. Holmes?\"\\n  \"Well, he was within his rights.\"\\n  \"It was as if the air of Italy had got into his blood and brought\\nwith it the old cruel Italian spirit. He wrote to me and sent me a\\ncopy of his book that I might have the torture of anticipation.\\nThere were two copies, he said -- one for me, one for his\\npublisher.\"\\n  \"How did you know the publisher\\'s had not reached him?\"\\n  \"I knew who his publisher was. It is not his only novel, you\\nknow. I found out that he had not heard from Italy. Then came\\nDouglas\\'s sudden death. So long as that other manuscript was in\\nthe world there was no safety for me. Of course, it must be\\namong his effects, and these would be returned to his mother. I\\nset the gang at work. One of them got into the house as servant.\\nI wanted to do the thing honestly. I really and truly did. I was\\nready to buy the house and everything in it. I offered any price\\nshe cared to ask. I only tried the other way when everything else\\nhad failed. Now, Mr. Holmes, granting that I was too hard on\\nDouglas -- and, God knows, I am sorry for it! -- what else could I\\ndo with my whole future at stake?\"\\n  Sherlock Holmes shrugged his shoulders.\\n  \"Well, well,\" said he, \"I suppose I shall have to compound a\\nfelony as usual. How much does it cost to go round the world in\\nfirst-class style?\"\\n  The lady stared in amazement.\\n  \"Could it be done on five thousand pounds?\"\\n  \"Well, I should think so, indeed!\"\\n  \"Very good. I think you will sign me a check for that, and I\\nwill see that it comes to Mrs. Maberley. You owe her a little\\nchange of air. Meantime, lady\" -- he wagged a cautionary\\nforefinger -- \"have a care! Have a care! You can\\'t play with\\nedged tools forever without cutting those dainty hands.\"'"
            ]
          },
          "metadata": {
            "tags": []
          },
          "execution_count": 3
        }
      ]
    },
    {
      "cell_type": "code",
      "metadata": {
        "id": "ON0Qrhe905SM",
        "colab": {
          "base_uri": "https://localhost:8080/",
          "height": 69
        },
        "outputId": "54a6b805-5cb9-4634-9f90-9d94234d4dfb"
      },
      "source": [
        "import tensorflow as tf\n",
        "import keras\n",
        "import numpy as np\n",
        "from tqdm import tqdm_notebook as tqdm\n",
        "import nltk\n",
        "import re\n",
        "nltk.download('punkt')"
      ],
      "execution_count": null,
      "outputs": [
        {
          "output_type": "stream",
          "text": [
            "[nltk_data] Downloading package punkt to /root/nltk_data...\n",
            "[nltk_data]   Package punkt is already up-to-date!\n"
          ],
          "name": "stdout"
        },
        {
          "output_type": "execute_result",
          "data": {
            "text/plain": [
              "True"
            ]
          },
          "metadata": {
            "tags": []
          },
          "execution_count": 4
        }
      ]
    },
    {
      "cell_type": "code",
      "metadata": {
        "id": "sxJ7QVX-cA3k"
      },
      "source": [
        "data=data.lower()\n",
        "data=re.sub(r'[\\n]', ' ',data)\n",
        "data=re.sub(r'[\\']','',data)\n",
        "data=re.sub(r'[\"?!]', ' ',data)\n",
        "data=re.sub(r'[.,]', ' ',data)\n",
        "data=re.sub(r'[:;]', ' ',data)\n",
        "data=re.sub(r'[0]', ' ',data)\n",
        "data=re.sub(r'[1]', ' ',data)\n",
        "data=re.sub(r'[\\[\\]]', ' ',data)\n",
        "data=re.sub(r'[\\-]', ' ',data)"
      ],
      "execution_count": null,
      "outputs": []
    },
    {
      "cell_type": "code",
      "metadata": {
        "id": "MHe5AwOHAi17",
        "colab": {
          "base_uri": "https://localhost:8080/",
          "height": 486
        },
        "outputId": "757d73c5-4d4d-412f-8512-d9f8cd74d5ff"
      },
      "source": [
        "set(data)"
      ],
      "execution_count": null,
      "outputs": [
        {
          "output_type": "execute_result",
          "data": {
            "text/plain": [
              "{' ',\n",
              " 'a',\n",
              " 'b',\n",
              " 'c',\n",
              " 'd',\n",
              " 'e',\n",
              " 'f',\n",
              " 'g',\n",
              " 'h',\n",
              " 'i',\n",
              " 'j',\n",
              " 'k',\n",
              " 'l',\n",
              " 'm',\n",
              " 'n',\n",
              " 'o',\n",
              " 'p',\n",
              " 'q',\n",
              " 'r',\n",
              " 's',\n",
              " 't',\n",
              " 'u',\n",
              " 'v',\n",
              " 'w',\n",
              " 'x',\n",
              " 'y',\n",
              " 'z'}"
            ]
          },
          "metadata": {
            "tags": []
          },
          "execution_count": 6
        }
      ]
    },
    {
      "cell_type": "code",
      "metadata": {
        "id": "BPo2RdQAcjOE"
      },
      "source": [
        "corpus = nltk.word_tokenize(data)"
      ],
      "execution_count": null,
      "outputs": []
    },
    {
      "cell_type": "code",
      "metadata": {
        "id": "w6YONqrESXq5",
        "colab": {
          "base_uri": "https://localhost:8080/",
          "height": 34
        },
        "outputId": "b9bb61a5-819b-4b0b-8358-3181da158468"
      },
      "source": [
        "len(corpus)"
      ],
      "execution_count": null,
      "outputs": [
        {
          "output_type": "execute_result",
          "data": {
            "text/plain": [
              "6115"
            ]
          },
          "metadata": {
            "tags": []
          },
          "execution_count": 8
        }
      ]
    },
    {
      "cell_type": "code",
      "metadata": {
        "id": "i9nfAVylSY9Q"
      },
      "source": [
        "vocab=set(corpus)"
      ],
      "execution_count": null,
      "outputs": []
    },
    {
      "cell_type": "code",
      "metadata": {
        "id": "StYEeVbhBWmx",
        "colab": {
          "base_uri": "https://localhost:8080/",
          "height": 72
        },
        "outputId": "55320e98-f903-467a-d846-4a850b901335"
      },
      "source": [
        "idx2w={}\n",
        "w2idx={}\n",
        "for i,w in enumerate(vocab):\n",
        "  idx2w[i]=w\n",
        "  w2idx[w]=i\n",
        "print(idx2w)\n",
        "print(w2idx)\n",
        "def get_window(words, window_size):\n",
        "  data = []\n",
        "  for i in range(len(words)):\n",
        "    for j in range(i - window_size, i + window_size + 1, 1):\n",
        "      if(j < 0 or j > (len(words) - 1) or j == i):\n",
        "        continue\n",
        "      data.append((words[i], words[j]))\n",
        "  return data\n",
        "def one_hot(center_word,w2idx):\n",
        "  one_hot=np.zeros((len(w2idx),1))\n",
        "  one_hot[w2idx[center_word]]=1\n",
        "  return one_hot\n",
        "def get_training_example(words, window_size, word_to_index):\n",
        "  X_train, y_train = [], []\n",
        "  Dataset = get_window(words, window_size)\n",
        "  for centre_word, context_word in Dataset:\n",
        "    X_train.append(one_hot(centre_word, word_to_index))\n",
        "    y_train.append(one_hot(context_word, word_to_index))\n",
        "  return X_train, y_train"
      ],
      "execution_count": null,
      "outputs": [
        {
          "output_type": "stream",
          "text": [
            "{0: 'picked', 1: 'wife', 2: 'clients', 3: 'ah', 4: 'though', 5: 'obscure', 6: 'thrust', 7: 'l', 8: 'crumpled', 9: 'salmon', 10: 'london', 11: 'develop', 12: 'i', 13: 'because', 14: 'rich', 15: 'supreme', 16: 'stock', 17: 'us', 18: 'seized', 19: 'up', 20: 'derby', 21: 'fiction', 22: 'mean', 23: 'we', 24: 'mystery', 25: 'eligible', 26: 'broken', 27: 'who', 28: 'look', 29: 'profession', 30: 'am', 31: 'ruffians', 32: 'screeched', 33: 'attracts', 34: 'reference', 35: 'knowing', 36: 'wat', 37: 'amazement', 38: 'mighty', 39: 'wonderful', 40: 'four', 41: 'had', 42: 'postmark', 43: 'dainty', 44: 'gentleman', 45: 'harmless', 46: 'sense', 47: 'what', 48: 'terrific', 49: 'footman', 50: 'hiring', 51: 'cruel', 52: 'suppose', 53: 'means', 54: 'establishment', 55: 'watson', 56: 'crowd', 57: 'clatter', 58: 'broad', 59: 'youve', 60: 'lane', 61: 'mischief', 62: 'flown', 63: 'dont', 64: 'might', 65: 'examining', 66: 'noon', 67: 'gun', 68: 'haines', 69: 'yes', 70: 'doubt', 71: 'offered', 72: 'dr', 73: 'channel', 74: 'genlmen', 75: 'hardest', 76: 'sir', 77: 'lives', 78: 'protection', 79: 'clever', 80: 'spent', 81: 'save', 82: 'evening', 83: 'page', 84: 'assaults', 85: 'safe', 86: 'anything', 87: 'marry', 88: 'rascals', 89: 'front', 90: 'instructions', 91: 'grabbed', 92: 'presence', 93: 'rather', 94: 'fair', 95: 'adventures', 96: 'gaunt', 97: 'bring', 98: 'social', 99: 'anyones', 100: 'inspector', 101: 'manoeuvres', 102: 'morning', 103: 'story', 104: 'ripple', 105: 'buried', 106: 'became', 107: 'will', 108: 'talking', 109: 'years', 110: 'sons', 111: 'none', 112: 'listen', 113: 'he', 114: 'alive', 115: 'mask', 116: 'maid', 117: 'him', 118: 'discreetly', 119: 'imagine', 120: 'was', 121: 'later', 122: 'said', 123: 'post', 124: 'away', 125: 'travel', 126: 'notice', 127: 'spanish', 128: 'run', 129: 'assembled', 130: 'explained', 131: 'chatty', 132: 'mood', 133: 'thats', 134: 'with', 135: 'dragged', 136: 'does', 137: 'neighbours', 138: 'intend', 139: 'fit', 140: 'commoner', 141: 'mark', 142: 'buying', 143: 'harrow', 144: 'labels', 145: 'manage', 146: 'occasion', 147: 'carried', 148: 'hall', 149: 'scent', 150: 'adventure', 151: 'eddy', 152: 'helped', 153: 'called', 154: 'bled', 155: 'found', 156: 'folio', 157: 'heavily', 158: 'think', 159: 'revenge', 160: 'big', 161: 'agony', 162: 'sans', 163: 'aspect', 164: 'suit', 165: 'corner', 166: 'witness', 167: 'safer', 168: 'thing', 169: 'all', 170: 'clearing', 171: 'amazing', 172: 'neglected', 173: 'lost', 174: 'walk', 175: 'overtaken', 176: 'end', 177: 'low', 178: 'caught', 179: 'book', 180: 'buttin', 181: 'nothing', 182: 'matters', 183: 'arrested', 184: 'pike', 185: 'she', 186: 'lawyer', 187: 'burglary', 188: 'undeveloped', 189: 'play', 190: 'next', 191: 'grin', 192: 'sign', 193: 'inch', 194: 'coming', 195: 'morose', 196: 'better', 197: 'cared', 198: 'sum', 199: 'already', 200: 'talk', 201: 'striking', 202: 'coop', 203: 'principal', 204: 'openly', 205: 'himself', 206: 'downstairs', 207: 'touch', 208: 'returned', 209: 'new', 210: 'lap', 211: 'human', 212: 'some', 213: 'tapping', 214: 'empty', 215: 'lighted', 216: 'timber', 217: 'raised', 218: 'mary', 219: 'after', 220: 'very', 221: 'couple', 222: 'wondering', 223: 'back', 224: 'link', 225: 'turbid', 226: 'cynical', 227: 'against', 228: 'lip', 229: 'houses', 230: 'urgent', 231: 'tastes', 232: 'agreed', 233: 'house', 234: 'data', 235: 'figure', 236: 'vitally', 237: 'magnificent', 238: 'woolly', 239: 'rarer', 240: 'lock', 241: 'stared', 242: 'their', 243: 'mistake', 244: 'treasure', 245: 'notebook', 246: 'surveillance', 247: 'surface', 248: 'imperative', 249: 'face', 250: 'reached', 251: 'maberleys', 252: 'unchecked', 253: 'point', 254: 'never', 255: 'band', 256: 'demands', 257: 'prove', 258: 'dixie', 259: 'line', 260: 'these', 261: 'arrived', 262: 'hours', 263: 'wished', 264: 'shadow', 265: 'open', 266: 'selp', 267: 'writer', 268: 'overdone', 269: 'service', 270: 'birmingham', 271: 'narrative', 272: 'by', 273: 'warning', 274: 'step', 275: 'forget', 276: 'raphael', 277: 'holmes', 278: 'expected', 279: 'roused', 280: 'didnt', 281: 'looked', 282: 'klein', 283: 'trim', 284: 'time', 285: 'widow', 286: 'ere', 287: 'calcined', 288: 'least', 289: 'journey', 290: 'home', 291: 'they', 292: 'baggage', 293: 'late', 294: 'naturally', 295: 'tools', 296: 'cohtain', 297: 'barney', 298: 'struck', 299: 'bage', 300: 'bow', 301: 'can', 302: 'most', 303: 'slight', 304: 'missed', 305: 'paid', 306: 'price', 307: 'rag', 308: 'novel', 309: 'anticipation', 310: 'round', 311: 'world', 312: 'douglass', 313: 'degrees', 314: 'happenings', 315: 'find', 316: 'now', 317: 'put', 318: 'tale', 319: 'poor', 320: 'period', 321: 'powers', 322: 'blood', 323: 'is', 324: 'proudest', 325: 'job', 326: 'un', 327: 'class', 328: 'listening', 329: 'penniless', 330: 'exquisite', 331: 'still', 332: 'leaden', 333: 'effects', 334: 'gar', 335: 'under', 336: 'intimidation', 337: 'has', 338: 'cater', 339: 'seemed', 340: 'waiting', 341: 'glimpse', 342: 'station', 343: 'silent', 344: 'intelligence', 345: 'st', 346: 'quiet', 347: 'alone', 348: 'holmess', 349: 'treat', 350: 'killing', 351: 'learned', 352: 'such', 353: 'shone', 354: 'ring', 355: 'smell', 356: 'dear', 357: 'tall', 358: 'received', 359: 'give', 360: 'dame', 361: 'on', 362: 'pocket', 363: 'bleeding', 364: 'analysis', 365: 'wagged', 366: 'capacity', 367: 'lived', 368: 'this', 369: 'lead', 370: 'menacing', 371: 'lamb', 372: 'sentence', 373: 'eleven', 374: 'woman', 375: 'frightened', 376: 'short', 377: 'wants', 378: 'more', 379: 'call', 380: 'visitor', 381: 'comic', 382: 'poker', 383: 'ment', 384: 'told', 385: 'group', 386: 'gave', 387: 'together', 388: 'course', 389: 'noise', 390: 'smiling', 391: 'own', 392: 'upper', 393: 'interrupt', 394: 'publishers', 395: 'silence', 396: 'name', 397: 'ans', 398: 'everything', 399: 'style', 400: 'milano', 401: 'speeding', 402: 'remarked', 403: 'frank', 404: 'power', 405: 'pines', 406: 'his', 407: 'sulky', 408: 'occur', 409: 'blundered', 410: 'precipitately', 411: 'added', 412: 'development', 413: 'long', 414: 'intimidate', 415: 'lucky', 416: 'curious', 417: 'maberley', 418: 'shook', 419: 'metropolis', 420: 'how', 421: 'much', 422: 'her', 423: 'gloom', 424: 'interlude', 425: 'specialize', 426: 'grosvenor', 427: 'me', 428: 'must', 429: 'also', 430: 'really', 431: 'threaten', 432: 'interruption', 433: 'about', 434: 'graces', 435: 'brought', 436: 'began', 437: 'idea', 438: 'ran', 439: 'fireplace', 440: 'future', 441: 'taken', 442: 'door', 443: 'simply', 444: 'meet', 445: 'retired', 446: 'wicked', 447: 'within', 448: 'early', 449: 'advised', 450: 'our', 451: 'asking', 452: 'well', 453: 'previous', 454: 'act', 455: 'creature', 456: 'lovely', 457: 'pure', 458: 'worn', 459: 'bottle', 460: 'finest', 461: 'whistled', 462: 'sin', 463: 'angry', 464: 'flowing', 465: 'rose', 466: 'marriage', 467: 'represent', 468: 'languid', 469: 'maam', 470: 'affair', 471: 'challenging', 472: 'number', 473: 'gone', 474: 'pass', 475: 'rising', 476: 'ma', 477: 'dirty', 478: 'wheezy', 479: 'left', 480: 'proud', 481: 'hate', 482: 'chicken', 483: 'any', 484: 'refine', 485: 'during', 486: 'bad', 487: 'one', 488: 'either', 489: 'man', 490: 'herself', 491: 'clothes', 492: 'rest', 493: 'little', 494: 'read', 495: 'public', 496: 'died', 497: 'document', 498: 'case', 499: 'chloroformed', 500: 'steve', 501: 'depths', 502: 'unprotected', 503: 'yard', 504: 'that', 505: 'agent', 506: 'sudden', 507: 'pleased', 508: 'partially', 509: 'it', 510: 'double', 511: 'trouble', 512: 'remember', 513: 'coloured', 514: 'oclock', 515: 'seems', 516: 'attempt', 517: 'instinct', 518: 'tie', 519: 'realize', 520: 'common', 521: 'melancholy', 522: 'break', 523: 'suggest', 524: 'interesting', 525: 'whom', 526: 'if', 527: 'drove', 528: 'struggle', 529: 'maidservant', 530: 'pneumonia', 531: 'good', 532: 'consult', 533: 'heard', 534: 'feelings', 535: 'arent', 536: 'pick', 537: 'head', 538: 'grove', 539: 'income', 540: 'fear', 541: 'driving', 542: 'worth', 543: 'clung', 544: 'paper', 545: 'roof', 546: 'captain', 547: 'night', 548: 'velvet', 549: 'recognize', 550: 'immediate', 551: 'aware', 552: 'chanced', 553: 'cutting', 554: 'grammar', 555: 'sullenly', 556: 'ask', 557: 'constables', 558: 'great', 559: 'do', 560: 'examine', 561: 'make', 562: 'men', 563: 'got', 564: 'last', 565: 'p', 566: 'born', 567: 'meant', 568: 'fiend', 569: 'names', 570: 'wom', 571: 'fibs', 572: 'reed', 573: 'prepared', 574: 'drama', 575: 'knows', 576: 'lucerne', 577: 'copy', 578: 'charming', 579: 'passed', 580: 'celerity', 581: 'railway', 582: 'lively', 583: 'quite', 584: 'tell', 585: 'equally', 586: 'succession', 587: 'shoulder', 588: 'ashes', 589: 'folded', 590: 'happen', 591: 'bedside', 592: 'value', 593: 'blackmail', 594: 'ambition', 595: 'since', 596: 'liberal', 597: 'owe', 598: 'staring', 599: 'single', 600: 'lady', 601: 'gentlemen', 602: 'agreement', 603: 'failed', 604: 'knocked', 605: 'halfway', 606: 'sell', 607: 'pipe', 608: 'ferguson', 609: 'manuscript', 610: 'unusual', 611: 'frighten', 612: 'speaking', 613: 'probably', 614: 'directory', 615: 'be', 616: 'perhaps', 617: 'abruptly', 618: 'geranium', 619: 'almost', 620: 'sacrifice', 621: 'spencer', 622: 'growled', 623: 'desired', 624: 'lovers', 625: 'wolf', 626: 'capable', 627: 'closely', 628: 'used', 629: 'wanted', 630: 'when', 631: 'forever', 632: 'youre', 633: 'orders', 634: 'screaming', 635: 'closed', 636: 'holborn', 637: 'continued', 638: 'rights', 639: 'finger', 640: 'please', 641: 'at', 642: 'pink', 643: 'scotland', 644: 'possessions', 645: 'bear', 646: 'less', 647: 'greeted', 648: 'gossip', 649: 'murder', 650: 'bargain', 651: 'nigger', 652: 'bull', 653: 'would', 654: 'address', 655: 'lying', 656: 'tea', 657: 'ness', 658: 'ive', 659: 'severe', 660: 'conscious', 661: 'life', 662: 'projections', 663: 'affairs', 664: 'forced', 665: 'death', 666: 'convey', 667: 'earth', 668: 'wire', 669: 'furniture', 670: 'pale', 671: 'come', 672: 'justify', 673: 'visitors', 674: 'scribbled', 675: 'impression', 676: 'annuity', 677: 'beat', 678: 'copies', 679: 'take', 680: 'report', 681: 'aged', 682: 'icy', 683: 'box', 684: 'cards', 685: 'pay', 686: 'malice', 687: 'swirl', 688: 'grassland', 689: 'week', 690: 'telegram', 691: 'flounced', 692: 'bury', 693: 'those', 694: 'household', 695: 'heartless', 696: 'blus', 697: 'however', 698: 'hedge', 699: 'muscular', 700: 'kind', 701: 'friend', 702: 'intolerable', 703: 'business', 704: 'imagined', 705: 'folks', 706: 'hoimes', 707: 'negro', 708: 'panicular', 709: 'suddenly', 710: 'theyve', 711: 'order', 712: 'jewels', 713: 'old', 714: 'get', 715: 'occupation', 716: 'mr', 717: 'secret', 718: 'connection', 719: 'way', 720: 'ruin', 721: 'honest', 722: 'considerably', 723: 'hundred', 724: 'set', 725: 'surprisingly', 726: 'mouth', 727: 'actions', 728: 'langdale', 729: 'true', 730: 'electric', 731: 'bedroom', 732: 'language', 733: 'described', 734: 'exact', 735: 'merci', 736: 'admit', 737: 'receiving', 738: 'debonair', 739: 'king', 740: 'incline', 741: 'sugar', 742: 'settled', 743: 'doing', 744: 'your', 745: 'undoing', 746: 'spose', 747: 'right', 748: 'watching', 749: 'brooding', 750: 'than', 751: 'noticed', 752: 'client', 753: 'drop', 754: 'moment', 755: 'rugged', 756: 'stood', 757: 'middle', 758: 'mrs', 759: 'handled', 760: 'interval', 761: 'incidents', 762: 'johnson', 763: 'shoulders', 764: 'manner', 765: 'among', 766: 'chance', 767: 'the', 768: 'breathe', 769: 'boss', 770: 'seen', 771: 'else', 772: 'orderly', 773: 'awkward', 774: 'and', 775: 'italian', 776: 'tenner', 777: 'squawking', 778: 'underrated', 779: 'john', 780: 'gables', 781: 'hardly', 782: 'loud', 783: 'm', 784: 'young', 785: 'have', 786: 'finer', 787: 'cheerfully', 788: 'upstairs', 789: 'dramatically', 790: 'cuts', 791: 'why', 792: 'lomond', 793: 'high', 794: 'someone', 795: 'fire', 796: 'wearily', 797: 'pernambuco', 798: 'trainin', 799: 'son', 800: 'yet', 801: 'them', 802: 'came', 803: 'lifes', 804: 'truly', 805: 'morrow', 806: 'boys', 807: 'drive', 808: 'passes', 809: 'villa', 810: 'matter', 811: 'behind', 812: 'warnin', 813: 'strange', 814: 'littered', 815: 'saw', 816: 'interested', 817: 'transmitter', 818: 'were', 819: 'comin', 820: 'honestly', 821: 'upon', 822: 'gallant', 823: 'bruiser', 824: 'forms', 825: 'two', 826: 'sprung', 827: 'say', 828: 'minute', 829: 'thousand', 830: 'clapped', 831: 'far', 832: 'check', 833: 'paregoric', 834: 'then', 835: 'could', 836: 'lunch', 837: 'merely', 838: 'aint', 839: 'duke', 840: 'dull', 841: 'per', 842: 'danger', 843: 'several', 844: 'ruined', 845: 'protects', 846: 'brave', 847: 'finds', 848: 'once', 849: 'felt', 850: 'arabian', 851: 'moody', 852: 'met', 853: 'floor', 854: 'luckily', 855: 'mass', 856: 'comes', 857: 'depressing', 858: 'anyhow', 859: 'people', 860: 'engaging', 861: 'purely', 862: 'tried', 863: 'holding', 864: 'lunatics', 865: 'services', 866: 'devel', 867: 'again', 868: 'madam', 869: 'sorry', 870: 'idlers', 871: 'youll', 872: 'savage', 873: 'so', 874: 'bullies', 875: 'extraordinary', 876: 'married', 877: 'close', 878: 'promised', 879: 'an', 880: 'strong', 881: 'rely', 882: 'marks', 883: 'feelins', 884: 'gray', 885: 'following', 886: 'bank', 887: 'party', 888: 'confess', 889: 'madeira', 890: 'belle', 891: 'accounts', 892: 'therefore', 893: 'feeble', 894: 'half', 895: 'legally', 896: 'ill', 897: 'took', 898: 'seem', 899: 'out', 900: 'valuable', 901: 'meantime', 902: 'waking', 903: 'let', 904: 'thought', 905: 'game', 906: 'skin', 907: 'oh', 908: 'pullin', 909: 'busi', 910: 'hear', 911: 'afraid', 912: 'remarkable', 913: 'heaven', 914: 'given', 915: 'inspectors', 916: 'overlook', 917: 'contributed', 918: 'word', 919: 'questioning', 920: 'wrote', 921: 'grown', 922: 'month', 923: 'sea', 924: 'spend', 925: 'torn', 926: 'settles', 927: 'hand', 928: 'object', 929: 'intimacy', 930: 'angle', 931: 'employer', 932: 'rough', 933: 'sonal', 934: 'see', 935: 'banged', 936: 'cairo', 937: 'sent', 938: 'indeed', 939: 'husband', 940: 'table', 941: 'associate', 942: 'treach', 943: 'quick', 944: 'feeds', 945: 'smouldering', 946: 'intensely', 947: 'flung', 948: 'connect', 949: 'too', 950: 'equal', 951: 'friends', 952: 'did', 953: 'ruefully', 954: 'introduced', 955: 'insulting', 956: 'awaiting', 957: 'susans', 958: 'steel', 959: 'planned', 960: 'cab', 961: 'blamed', 962: 'days', 963: 'madness', 964: 'lookin', 965: 'nowadays', 966: 'forefinger', 967: 'promise', 968: 'criminals', 969: 'entrance', 970: 'foolscap', 971: 'burst', 972: 'dark', 973: 'dressed', 974: 'conceal', 975: 'wish', 976: 'fads', 977: 'mention', 978: 'odd', 979: 'stealthy', 980: 'besides', 981: 'strode', 982: 'help', 983: 'nodded', 984: 'sentiment', 985: 'caprice', 986: 'turned', 987: 'arm', 988: 'steal', 989: 'mad', 990: 'ordinary', 991: 'tering', 992: 'mental', 993: 'auctioneer', 994: 'sure', 995: 'edged', 996: 'letter', 997: 'leave', 998: 'different', 999: 'dream', 1000: 'humilia', 1001: 'gives', 1002: 'spare', 1003: 'pointed', 1004: 'barrel', 1005: 'from', 1006: 're', 1007: 'piled', 1008: 'jamess', 1009: 'into', 1010: 'entered', 1011: 'answered', 1012: 'outside', 1013: 'swung', 1014: 'furnished', 1015: 'excellent', 1016: 'real', 1017: 'may', 1018: 'smiled', 1019: 'best', 1020: 'cant', 1021: 'trunks', 1022: 'fancy', 1023: 'gang', 1024: 'change', 1025: 'spirit', 1026: 'prompt', 1027: 'shape', 1028: 'sprang', 1029: 'shall', 1030: 'surely', 1031: 'serve', 1032: 'been', 1033: 'to', 1034: 'im', 1035: 'flattened', 1036: 'cross', 1037: 'alas', 1038: 'part', 1039: 'society', 1040: 'showed', 1041: 'lump', 1042: 'wretchedly', 1043: 'german', 1044: 'mind', 1045: 'risk', 1046: 'hands', 1047: 'asked', 1048: 'rome', 1049: 'top', 1050: 'club', 1051: 'inspected', 1052: 'oped', 1053: 'another', 1054: 'attache', 1055: 'easily', 1056: 'turning', 1057: 'fist', 1058: 'unpleasant', 1059: 'not', 1060: 'embrace', 1061: 'hurry', 1062: 'further', 1063: 'above', 1064: 'known', 1065: 'hard', 1066: 'longer', 1067: 'marked', 1068: 'approach', 1069: 'enough', 1070: 'weald', 1071: 'dealing', 1072: 'central', 1073: 'room', 1074: 'astute', 1075: 'covet', 1076: 'meaning', 1077: 'changed', 1078: 'whole', 1079: 'buy', 1080: 'womans', 1081: 'across', 1082: 'safety', 1083: 'celebrated', 1084: 'generations', 1085: 'welcome', 1086: 'respect', 1087: 'experience', 1088: 'evident', 1089: 'apply', 1090: 'care', 1091: 'a', 1092: 'culture', 1093: 'pretty', 1094: 'yourself', 1095: 'bundle', 1096: 'roar', 1097: 'kindly', 1098: 'or', 1099: 'heart', 1100: 'write', 1101: 'felony', 1102: 'small', 1103: 'agrees', 1104: 'bulky', 1105: 'vast', 1106: 'handed', 1107: 'machine', 1108: 'publisher', 1109: 'place', 1110: 'pertinacious', 1111: 'damn', 1112: 'cost', 1113: 'sullen', 1114: 'over', 1115: 'as', 1116: 'stuff', 1117: 'latter', 1118: 'office', 1119: 'granting', 1120: 'guard', 1121: 'placed', 1122: 'leaning', 1123: 'bit', 1124: 'blows', 1125: 'servant', 1126: 'usual', 1127: 'masser', 1128: 'acre', 1129: 'douglas', 1130: 'until', 1131: 'knew', 1132: 'presently', 1133: 'perfect', 1134: 'always', 1135: 'prize', 1136: 'stockdale', 1137: 'ready', 1138: 'mistress', 1139: 'windows', 1140: 'work', 1141: 'should', 1142: 'possession', 1143: 'stake', 1144: 'day', 1145: 'hope', 1146: 'trifling', 1147: 'crisis', 1148: 'going', 1149: 'black', 1150: 'looking', 1151: 'concession', 1152: 'doin', 1153: 'grim', 1154: 'god', 1155: 'opened', 1156: 'go', 1157: 'papers', 1158: 'knotted', 1159: 'where', 1160: 'named', 1161: 'even', 1162: 'mother', 1163: 'cried', 1164: 'every', 1165: 'yesterday', 1166: 'advice', 1167: 'slip', 1168: 'warned', 1169: 'street', 1170: 'believe', 1171: 'air', 1172: 'question', 1173: 'faithfully', 1174: 'hired', 1175: 'ten', 1176: 'broke', 1177: 'words', 1178: 'armchair', 1179: 'forward', 1180: 'want', 1181: 'off', 1182: 'whether', 1183: 'grasped', 1184: 'opposite', 1185: 'note', 1186: 'walked', 1187: 'for', 1188: 'sherlock', 1189: 'year', 1190: 'send', 1191: 'lord', 1192: 'spoke', 1193: 'queenly', 1194: 'try', 1195: 'truth', 1196: 'biting', 1197: 'erous', 1198: 'standing', 1199: 'dead', 1200: 'feel', 1201: 'burgled', 1202: 'fellow', 1203: 'ended', 1204: 'fate', 1205: 'gleam', 1206: 'stop', 1207: 'tested', 1208: 'sees', 1209: 'drawn', 1210: 'piecing', 1211: 'original', 1212: 'captor', 1213: 'soon', 1214: 'justice', 1215: 'through', 1216: 'susan', 1217: 'funny', 1218: 'age', 1219: 'same', 1220: 'slightly', 1221: 'torture', 1222: 'senseless', 1223: 'missing', 1224: 'observed', 1225: 'genlman', 1226: 'market', 1227: 'certainly', 1228: 'supposing', 1229: 'eyes', 1230: 'nose', 1231: 'money', 1232: 'simple', 1233: 'here', 1234: 'immune', 1235: 'pomposity', 1236: 'which', 1237: 'bar', 1238: 'conquistadors', 1239: 'fighter', 1240: 'in', 1241: 'madame', 1242: 'like', 1243: 'chuckle', 1244: 'mortimer', 1245: 'clue', 1246: 'compound', 1247: 'magistrate', 1248: 'girl', 1249: 'light', 1250: 'done', 1251: 'state', 1252: 'shorter', 1253: 'shrugged', 1254: 'hell', 1255: 'hideous', 1256: 'bearing', 1257: 'quicker', 1258: 'possibly', 1259: 'wait', 1260: 'exactly', 1261: 'coldly', 1262: 'but', 1263: 'earn', 1264: 'brick', 1265: 'scandal', 1266: 'minutes', 1267: 'ever', 1268: 'pocketbook', 1269: 'hero', 1270: 'coolness', 1271: 'yours', 1272: 'suggests', 1273: 'twenty', 1274: 'lonely', 1275: 'need', 1276: 'my', 1277: 'delay', 1278: 'jumped', 1279: 'richest', 1280: 'fragment', 1281: 'offer', 1282: 'person', 1283: 'plan', 1284: 'mornin', 1285: 'west', 1286: 'flushed', 1287: 'complete', 1288: 'made', 1289: 'explain', 1290: 'cases', 1291: 'satisfied', 1292: 'whatever', 1293: 'first', 1294: 'riviera', 1295: 'luck', 1296: 'anyone', 1297: 'exhausted', 1298: 'live', 1299: 'surprise', 1300: 'forty', 1301: 'ungainly', 1302: 'baby', 1303: 'beds', 1304: 'know', 1305: 'stayin', 1306: 'ago', 1307: 'message', 1308: 'decides', 1309: 'seals', 1310: 'burglars', 1311: 'appear', 1312: 'experts', 1313: 'keep', 1314: 'italy', 1315: 'hounds', 1316: 'gate', 1317: 'roguish', 1318: 'joy', 1319: 'pleasant', 1320: 'foolish', 1321: 'only', 1322: 'intrusion', 1323: 'something', 1324: 'boy', 1325: 'threw', 1326: 'rubicund', 1327: 'coquettish', 1328: 'sheet', 1329: 'chloroform', 1330: 'drew', 1331: 'unless', 1332: 'familiar', 1333: 'bore', 1334: 'occurred', 1335: 'masterfui', 1336: 'sutro', 1337: 'law', 1338: 'elderly', 1339: 'you', 1340: 'valuer', 1341: 'sunk', 1342: 'lay', 1343: 'notion', 1344: 'five', 1345: 'fibre', 1346: 'smile', 1347: 'lesson', 1348: 'tion', 1349: 'police', 1350: 'isadora', 1351: 'thoroughly', 1352: 'fellows', 1353: 'are', 1354: 'both', 1355: 'square', 1356: 'believed', 1357: 'crown', 1358: 'telling', 1359: 'private', 1360: 'bought', 1361: 'splendid', 1362: 'flamboyant', 1363: 'turn', 1364: 'its', 1365: 'queer', 1366: 'directed', 1367: 'huge', 1368: 'amazed', 1369: 'glad', 1370: 'three', 1371: 'perkins', 1372: 'card', 1373: 'sit', 1374: 'garden', 1375: 'lad', 1376: 'clearer', 1377: 'proved', 1378: 'view', 1379: 'fresh', 1380: 'occasional', 1381: 'fine', 1382: 'wont', 1383: 'side', 1384: 'unpacked', 1385: 'posted', 1386: 'gather', 1387: 'nearly', 1388: 'while', 1389: 'laughter', 1390: 'cautionary', 1391: 'paragraphs', 1392: 'down', 1393: 'drawing', 1394: 'curled', 1395: 'sooner', 1396: 'shakespeare', 1397: 'inquisitive', 1398: 'other', 1399: 'shake', 1400: 'no', 1401: 'plans', 1402: 'window', 1403: 'handwriting', 1404: 'before', 1405: 'visit', 1406: 'cowed', 1407: 'lie', 1408: 'settee', 1409: 'woke', 1410: 'of', 1411: 'automatic', 1412: 'pages', 1413: 'love', 1414: 'just', 1415: 'bolted', 1416: 'fault', 1417: 'reciprocate', 1418: 'things', 1419: 'chair', 1420: 'bye', 1421: 'clearly', 1422: 'leaders', 1423: 'dial', 1424: 'clear', 1425: 'pounds', 1426: 'possible', 1427: 'examined', 1428: 'bustling', 1429: 'butterfly', 1430: 'activities', 1431: 'beauty', 1432: 'nights', 1433: 'knowledge', 1434: 'without', 1435: 'interest', 1436: 'there', 1437: 'use'}\n",
            "{'picked': 0, 'wife': 1, 'clients': 2, 'ah': 3, 'though': 4, 'obscure': 5, 'thrust': 6, 'l': 7, 'crumpled': 8, 'salmon': 9, 'london': 10, 'develop': 11, 'i': 12, 'because': 13, 'rich': 14, 'supreme': 15, 'stock': 16, 'us': 17, 'seized': 18, 'up': 19, 'derby': 20, 'fiction': 21, 'mean': 22, 'we': 23, 'mystery': 24, 'eligible': 25, 'broken': 26, 'who': 27, 'look': 28, 'profession': 29, 'am': 30, 'ruffians': 31, 'screeched': 32, 'attracts': 33, 'reference': 34, 'knowing': 35, 'wat': 36, 'amazement': 37, 'mighty': 38, 'wonderful': 39, 'four': 40, 'had': 41, 'postmark': 42, 'dainty': 43, 'gentleman': 44, 'harmless': 45, 'sense': 46, 'what': 47, 'terrific': 48, 'footman': 49, 'hiring': 50, 'cruel': 51, 'suppose': 52, 'means': 53, 'establishment': 54, 'watson': 55, 'crowd': 56, 'clatter': 57, 'broad': 58, 'youve': 59, 'lane': 60, 'mischief': 61, 'flown': 62, 'dont': 63, 'might': 64, 'examining': 65, 'noon': 66, 'gun': 67, 'haines': 68, 'yes': 69, 'doubt': 70, 'offered': 71, 'dr': 72, 'channel': 73, 'genlmen': 74, 'hardest': 75, 'sir': 76, 'lives': 77, 'protection': 78, 'clever': 79, 'spent': 80, 'save': 81, 'evening': 82, 'page': 83, 'assaults': 84, 'safe': 85, 'anything': 86, 'marry': 87, 'rascals': 88, 'front': 89, 'instructions': 90, 'grabbed': 91, 'presence': 92, 'rather': 93, 'fair': 94, 'adventures': 95, 'gaunt': 96, 'bring': 97, 'social': 98, 'anyones': 99, 'inspector': 100, 'manoeuvres': 101, 'morning': 102, 'story': 103, 'ripple': 104, 'buried': 105, 'became': 106, 'will': 107, 'talking': 108, 'years': 109, 'sons': 110, 'none': 111, 'listen': 112, 'he': 113, 'alive': 114, 'mask': 115, 'maid': 116, 'him': 117, 'discreetly': 118, 'imagine': 119, 'was': 120, 'later': 121, 'said': 122, 'post': 123, 'away': 124, 'travel': 125, 'notice': 126, 'spanish': 127, 'run': 128, 'assembled': 129, 'explained': 130, 'chatty': 131, 'mood': 132, 'thats': 133, 'with': 134, 'dragged': 135, 'does': 136, 'neighbours': 137, 'intend': 138, 'fit': 139, 'commoner': 140, 'mark': 141, 'buying': 142, 'harrow': 143, 'labels': 144, 'manage': 145, 'occasion': 146, 'carried': 147, 'hall': 148, 'scent': 149, 'adventure': 150, 'eddy': 151, 'helped': 152, 'called': 153, 'bled': 154, 'found': 155, 'folio': 156, 'heavily': 157, 'think': 158, 'revenge': 159, 'big': 160, 'agony': 161, 'sans': 162, 'aspect': 163, 'suit': 164, 'corner': 165, 'witness': 166, 'safer': 167, 'thing': 168, 'all': 169, 'clearing': 170, 'amazing': 171, 'neglected': 172, 'lost': 173, 'walk': 174, 'overtaken': 175, 'end': 176, 'low': 177, 'caught': 178, 'book': 179, 'buttin': 180, 'nothing': 181, 'matters': 182, 'arrested': 183, 'pike': 184, 'she': 185, 'lawyer': 186, 'burglary': 187, 'undeveloped': 188, 'play': 189, 'next': 190, 'grin': 191, 'sign': 192, 'inch': 193, 'coming': 194, 'morose': 195, 'better': 196, 'cared': 197, 'sum': 198, 'already': 199, 'talk': 200, 'striking': 201, 'coop': 202, 'principal': 203, 'openly': 204, 'himself': 205, 'downstairs': 206, 'touch': 207, 'returned': 208, 'new': 209, 'lap': 210, 'human': 211, 'some': 212, 'tapping': 213, 'empty': 214, 'lighted': 215, 'timber': 216, 'raised': 217, 'mary': 218, 'after': 219, 'very': 220, 'couple': 221, 'wondering': 222, 'back': 223, 'link': 224, 'turbid': 225, 'cynical': 226, 'against': 227, 'lip': 228, 'houses': 229, 'urgent': 230, 'tastes': 231, 'agreed': 232, 'house': 233, 'data': 234, 'figure': 235, 'vitally': 236, 'magnificent': 237, 'woolly': 238, 'rarer': 239, 'lock': 240, 'stared': 241, 'their': 242, 'mistake': 243, 'treasure': 244, 'notebook': 245, 'surveillance': 246, 'surface': 247, 'imperative': 248, 'face': 249, 'reached': 250, 'maberleys': 251, 'unchecked': 252, 'point': 253, 'never': 254, 'band': 255, 'demands': 256, 'prove': 257, 'dixie': 258, 'line': 259, 'these': 260, 'arrived': 261, 'hours': 262, 'wished': 263, 'shadow': 264, 'open': 265, 'selp': 266, 'writer': 267, 'overdone': 268, 'service': 269, 'birmingham': 270, 'narrative': 271, 'by': 272, 'warning': 273, 'step': 274, 'forget': 275, 'raphael': 276, 'holmes': 277, 'expected': 278, 'roused': 279, 'didnt': 280, 'looked': 281, 'klein': 282, 'trim': 283, 'time': 284, 'widow': 285, 'ere': 286, 'calcined': 287, 'least': 288, 'journey': 289, 'home': 290, 'they': 291, 'baggage': 292, 'late': 293, 'naturally': 294, 'tools': 295, 'cohtain': 296, 'barney': 297, 'struck': 298, 'bage': 299, 'bow': 300, 'can': 301, 'most': 302, 'slight': 303, 'missed': 304, 'paid': 305, 'price': 306, 'rag': 307, 'novel': 308, 'anticipation': 309, 'round': 310, 'world': 311, 'douglass': 312, 'degrees': 313, 'happenings': 314, 'find': 315, 'now': 316, 'put': 317, 'tale': 318, 'poor': 319, 'period': 320, 'powers': 321, 'blood': 322, 'is': 323, 'proudest': 324, 'job': 325, 'un': 326, 'class': 327, 'listening': 328, 'penniless': 329, 'exquisite': 330, 'still': 331, 'leaden': 332, 'effects': 333, 'gar': 334, 'under': 335, 'intimidation': 336, 'has': 337, 'cater': 338, 'seemed': 339, 'waiting': 340, 'glimpse': 341, 'station': 342, 'silent': 343, 'intelligence': 344, 'st': 345, 'quiet': 346, 'alone': 347, 'holmess': 348, 'treat': 349, 'killing': 350, 'learned': 351, 'such': 352, 'shone': 353, 'ring': 354, 'smell': 355, 'dear': 356, 'tall': 357, 'received': 358, 'give': 359, 'dame': 360, 'on': 361, 'pocket': 362, 'bleeding': 363, 'analysis': 364, 'wagged': 365, 'capacity': 366, 'lived': 367, 'this': 368, 'lead': 369, 'menacing': 370, 'lamb': 371, 'sentence': 372, 'eleven': 373, 'woman': 374, 'frightened': 375, 'short': 376, 'wants': 377, 'more': 378, 'call': 379, 'visitor': 380, 'comic': 381, 'poker': 382, 'ment': 383, 'told': 384, 'group': 385, 'gave': 386, 'together': 387, 'course': 388, 'noise': 389, 'smiling': 390, 'own': 391, 'upper': 392, 'interrupt': 393, 'publishers': 394, 'silence': 395, 'name': 396, 'ans': 397, 'everything': 398, 'style': 399, 'milano': 400, 'speeding': 401, 'remarked': 402, 'frank': 403, 'power': 404, 'pines': 405, 'his': 406, 'sulky': 407, 'occur': 408, 'blundered': 409, 'precipitately': 410, 'added': 411, 'development': 412, 'long': 413, 'intimidate': 414, 'lucky': 415, 'curious': 416, 'maberley': 417, 'shook': 418, 'metropolis': 419, 'how': 420, 'much': 421, 'her': 422, 'gloom': 423, 'interlude': 424, 'specialize': 425, 'grosvenor': 426, 'me': 427, 'must': 428, 'also': 429, 'really': 430, 'threaten': 431, 'interruption': 432, 'about': 433, 'graces': 434, 'brought': 435, 'began': 436, 'idea': 437, 'ran': 438, 'fireplace': 439, 'future': 440, 'taken': 441, 'door': 442, 'simply': 443, 'meet': 444, 'retired': 445, 'wicked': 446, 'within': 447, 'early': 448, 'advised': 449, 'our': 450, 'asking': 451, 'well': 452, 'previous': 453, 'act': 454, 'creature': 455, 'lovely': 456, 'pure': 457, 'worn': 458, 'bottle': 459, 'finest': 460, 'whistled': 461, 'sin': 462, 'angry': 463, 'flowing': 464, 'rose': 465, 'marriage': 466, 'represent': 467, 'languid': 468, 'maam': 469, 'affair': 470, 'challenging': 471, 'number': 472, 'gone': 473, 'pass': 474, 'rising': 475, 'ma': 476, 'dirty': 477, 'wheezy': 478, 'left': 479, 'proud': 480, 'hate': 481, 'chicken': 482, 'any': 483, 'refine': 484, 'during': 485, 'bad': 486, 'one': 487, 'either': 488, 'man': 489, 'herself': 490, 'clothes': 491, 'rest': 492, 'little': 493, 'read': 494, 'public': 495, 'died': 496, 'document': 497, 'case': 498, 'chloroformed': 499, 'steve': 500, 'depths': 501, 'unprotected': 502, 'yard': 503, 'that': 504, 'agent': 505, 'sudden': 506, 'pleased': 507, 'partially': 508, 'it': 509, 'double': 510, 'trouble': 511, 'remember': 512, 'coloured': 513, 'oclock': 514, 'seems': 515, 'attempt': 516, 'instinct': 517, 'tie': 518, 'realize': 519, 'common': 520, 'melancholy': 521, 'break': 522, 'suggest': 523, 'interesting': 524, 'whom': 525, 'if': 526, 'drove': 527, 'struggle': 528, 'maidservant': 529, 'pneumonia': 530, 'good': 531, 'consult': 532, 'heard': 533, 'feelings': 534, 'arent': 535, 'pick': 536, 'head': 537, 'grove': 538, 'income': 539, 'fear': 540, 'driving': 541, 'worth': 542, 'clung': 543, 'paper': 544, 'roof': 545, 'captain': 546, 'night': 547, 'velvet': 548, 'recognize': 549, 'immediate': 550, 'aware': 551, 'chanced': 552, 'cutting': 553, 'grammar': 554, 'sullenly': 555, 'ask': 556, 'constables': 557, 'great': 558, 'do': 559, 'examine': 560, 'make': 561, 'men': 562, 'got': 563, 'last': 564, 'p': 565, 'born': 566, 'meant': 567, 'fiend': 568, 'names': 569, 'wom': 570, 'fibs': 571, 'reed': 572, 'prepared': 573, 'drama': 574, 'knows': 575, 'lucerne': 576, 'copy': 577, 'charming': 578, 'passed': 579, 'celerity': 580, 'railway': 581, 'lively': 582, 'quite': 583, 'tell': 584, 'equally': 585, 'succession': 586, 'shoulder': 587, 'ashes': 588, 'folded': 589, 'happen': 590, 'bedside': 591, 'value': 592, 'blackmail': 593, 'ambition': 594, 'since': 595, 'liberal': 596, 'owe': 597, 'staring': 598, 'single': 599, 'lady': 600, 'gentlemen': 601, 'agreement': 602, 'failed': 603, 'knocked': 604, 'halfway': 605, 'sell': 606, 'pipe': 607, 'ferguson': 608, 'manuscript': 609, 'unusual': 610, 'frighten': 611, 'speaking': 612, 'probably': 613, 'directory': 614, 'be': 615, 'perhaps': 616, 'abruptly': 617, 'geranium': 618, 'almost': 619, 'sacrifice': 620, 'spencer': 621, 'growled': 622, 'desired': 623, 'lovers': 624, 'wolf': 625, 'capable': 626, 'closely': 627, 'used': 628, 'wanted': 629, 'when': 630, 'forever': 631, 'youre': 632, 'orders': 633, 'screaming': 634, 'closed': 635, 'holborn': 636, 'continued': 637, 'rights': 638, 'finger': 639, 'please': 640, 'at': 641, 'pink': 642, 'scotland': 643, 'possessions': 644, 'bear': 645, 'less': 646, 'greeted': 647, 'gossip': 648, 'murder': 649, 'bargain': 650, 'nigger': 651, 'bull': 652, 'would': 653, 'address': 654, 'lying': 655, 'tea': 656, 'ness': 657, 'ive': 658, 'severe': 659, 'conscious': 660, 'life': 661, 'projections': 662, 'affairs': 663, 'forced': 664, 'death': 665, 'convey': 666, 'earth': 667, 'wire': 668, 'furniture': 669, 'pale': 670, 'come': 671, 'justify': 672, 'visitors': 673, 'scribbled': 674, 'impression': 675, 'annuity': 676, 'beat': 677, 'copies': 678, 'take': 679, 'report': 680, 'aged': 681, 'icy': 682, 'box': 683, 'cards': 684, 'pay': 685, 'malice': 686, 'swirl': 687, 'grassland': 688, 'week': 689, 'telegram': 690, 'flounced': 691, 'bury': 692, 'those': 693, 'household': 694, 'heartless': 695, 'blus': 696, 'however': 697, 'hedge': 698, 'muscular': 699, 'kind': 700, 'friend': 701, 'intolerable': 702, 'business': 703, 'imagined': 704, 'folks': 705, 'hoimes': 706, 'negro': 707, 'panicular': 708, 'suddenly': 709, 'theyve': 710, 'order': 711, 'jewels': 712, 'old': 713, 'get': 714, 'occupation': 715, 'mr': 716, 'secret': 717, 'connection': 718, 'way': 719, 'ruin': 720, 'honest': 721, 'considerably': 722, 'hundred': 723, 'set': 724, 'surprisingly': 725, 'mouth': 726, 'actions': 727, 'langdale': 728, 'true': 729, 'electric': 730, 'bedroom': 731, 'language': 732, 'described': 733, 'exact': 734, 'merci': 735, 'admit': 736, 'receiving': 737, 'debonair': 738, 'king': 739, 'incline': 740, 'sugar': 741, 'settled': 742, 'doing': 743, 'your': 744, 'undoing': 745, 'spose': 746, 'right': 747, 'watching': 748, 'brooding': 749, 'than': 750, 'noticed': 751, 'client': 752, 'drop': 753, 'moment': 754, 'rugged': 755, 'stood': 756, 'middle': 757, 'mrs': 758, 'handled': 759, 'interval': 760, 'incidents': 761, 'johnson': 762, 'shoulders': 763, 'manner': 764, 'among': 765, 'chance': 766, 'the': 767, 'breathe': 768, 'boss': 769, 'seen': 770, 'else': 771, 'orderly': 772, 'awkward': 773, 'and': 774, 'italian': 775, 'tenner': 776, 'squawking': 777, 'underrated': 778, 'john': 779, 'gables': 780, 'hardly': 781, 'loud': 782, 'm': 783, 'young': 784, 'have': 785, 'finer': 786, 'cheerfully': 787, 'upstairs': 788, 'dramatically': 789, 'cuts': 790, 'why': 791, 'lomond': 792, 'high': 793, 'someone': 794, 'fire': 795, 'wearily': 796, 'pernambuco': 797, 'trainin': 798, 'son': 799, 'yet': 800, 'them': 801, 'came': 802, 'lifes': 803, 'truly': 804, 'morrow': 805, 'boys': 806, 'drive': 807, 'passes': 808, 'villa': 809, 'matter': 810, 'behind': 811, 'warnin': 812, 'strange': 813, 'littered': 814, 'saw': 815, 'interested': 816, 'transmitter': 817, 'were': 818, 'comin': 819, 'honestly': 820, 'upon': 821, 'gallant': 822, 'bruiser': 823, 'forms': 824, 'two': 825, 'sprung': 826, 'say': 827, 'minute': 828, 'thousand': 829, 'clapped': 830, 'far': 831, 'check': 832, 'paregoric': 833, 'then': 834, 'could': 835, 'lunch': 836, 'merely': 837, 'aint': 838, 'duke': 839, 'dull': 840, 'per': 841, 'danger': 842, 'several': 843, 'ruined': 844, 'protects': 845, 'brave': 846, 'finds': 847, 'once': 848, 'felt': 849, 'arabian': 850, 'moody': 851, 'met': 852, 'floor': 853, 'luckily': 854, 'mass': 855, 'comes': 856, 'depressing': 857, 'anyhow': 858, 'people': 859, 'engaging': 860, 'purely': 861, 'tried': 862, 'holding': 863, 'lunatics': 864, 'services': 865, 'devel': 866, 'again': 867, 'madam': 868, 'sorry': 869, 'idlers': 870, 'youll': 871, 'savage': 872, 'so': 873, 'bullies': 874, 'extraordinary': 875, 'married': 876, 'close': 877, 'promised': 878, 'an': 879, 'strong': 880, 'rely': 881, 'marks': 882, 'feelins': 883, 'gray': 884, 'following': 885, 'bank': 886, 'party': 887, 'confess': 888, 'madeira': 889, 'belle': 890, 'accounts': 891, 'therefore': 892, 'feeble': 893, 'half': 894, 'legally': 895, 'ill': 896, 'took': 897, 'seem': 898, 'out': 899, 'valuable': 900, 'meantime': 901, 'waking': 902, 'let': 903, 'thought': 904, 'game': 905, 'skin': 906, 'oh': 907, 'pullin': 908, 'busi': 909, 'hear': 910, 'afraid': 911, 'remarkable': 912, 'heaven': 913, 'given': 914, 'inspectors': 915, 'overlook': 916, 'contributed': 917, 'word': 918, 'questioning': 919, 'wrote': 920, 'grown': 921, 'month': 922, 'sea': 923, 'spend': 924, 'torn': 925, 'settles': 926, 'hand': 927, 'object': 928, 'intimacy': 929, 'angle': 930, 'employer': 931, 'rough': 932, 'sonal': 933, 'see': 934, 'banged': 935, 'cairo': 936, 'sent': 937, 'indeed': 938, 'husband': 939, 'table': 940, 'associate': 941, 'treach': 942, 'quick': 943, 'feeds': 944, 'smouldering': 945, 'intensely': 946, 'flung': 947, 'connect': 948, 'too': 949, 'equal': 950, 'friends': 951, 'did': 952, 'ruefully': 953, 'introduced': 954, 'insulting': 955, 'awaiting': 956, 'susans': 957, 'steel': 958, 'planned': 959, 'cab': 960, 'blamed': 961, 'days': 962, 'madness': 963, 'lookin': 964, 'nowadays': 965, 'forefinger': 966, 'promise': 967, 'criminals': 968, 'entrance': 969, 'foolscap': 970, 'burst': 971, 'dark': 972, 'dressed': 973, 'conceal': 974, 'wish': 975, 'fads': 976, 'mention': 977, 'odd': 978, 'stealthy': 979, 'besides': 980, 'strode': 981, 'help': 982, 'nodded': 983, 'sentiment': 984, 'caprice': 985, 'turned': 986, 'arm': 987, 'steal': 988, 'mad': 989, 'ordinary': 990, 'tering': 991, 'mental': 992, 'auctioneer': 993, 'sure': 994, 'edged': 995, 'letter': 996, 'leave': 997, 'different': 998, 'dream': 999, 'humilia': 1000, 'gives': 1001, 'spare': 1002, 'pointed': 1003, 'barrel': 1004, 'from': 1005, 're': 1006, 'piled': 1007, 'jamess': 1008, 'into': 1009, 'entered': 1010, 'answered': 1011, 'outside': 1012, 'swung': 1013, 'furnished': 1014, 'excellent': 1015, 'real': 1016, 'may': 1017, 'smiled': 1018, 'best': 1019, 'cant': 1020, 'trunks': 1021, 'fancy': 1022, 'gang': 1023, 'change': 1024, 'spirit': 1025, 'prompt': 1026, 'shape': 1027, 'sprang': 1028, 'shall': 1029, 'surely': 1030, 'serve': 1031, 'been': 1032, 'to': 1033, 'im': 1034, 'flattened': 1035, 'cross': 1036, 'alas': 1037, 'part': 1038, 'society': 1039, 'showed': 1040, 'lump': 1041, 'wretchedly': 1042, 'german': 1043, 'mind': 1044, 'risk': 1045, 'hands': 1046, 'asked': 1047, 'rome': 1048, 'top': 1049, 'club': 1050, 'inspected': 1051, 'oped': 1052, 'another': 1053, 'attache': 1054, 'easily': 1055, 'turning': 1056, 'fist': 1057, 'unpleasant': 1058, 'not': 1059, 'embrace': 1060, 'hurry': 1061, 'further': 1062, 'above': 1063, 'known': 1064, 'hard': 1065, 'longer': 1066, 'marked': 1067, 'approach': 1068, 'enough': 1069, 'weald': 1070, 'dealing': 1071, 'central': 1072, 'room': 1073, 'astute': 1074, 'covet': 1075, 'meaning': 1076, 'changed': 1077, 'whole': 1078, 'buy': 1079, 'womans': 1080, 'across': 1081, 'safety': 1082, 'celebrated': 1083, 'generations': 1084, 'welcome': 1085, 'respect': 1086, 'experience': 1087, 'evident': 1088, 'apply': 1089, 'care': 1090, 'a': 1091, 'culture': 1092, 'pretty': 1093, 'yourself': 1094, 'bundle': 1095, 'roar': 1096, 'kindly': 1097, 'or': 1098, 'heart': 1099, 'write': 1100, 'felony': 1101, 'small': 1102, 'agrees': 1103, 'bulky': 1104, 'vast': 1105, 'handed': 1106, 'machine': 1107, 'publisher': 1108, 'place': 1109, 'pertinacious': 1110, 'damn': 1111, 'cost': 1112, 'sullen': 1113, 'over': 1114, 'as': 1115, 'stuff': 1116, 'latter': 1117, 'office': 1118, 'granting': 1119, 'guard': 1120, 'placed': 1121, 'leaning': 1122, 'bit': 1123, 'blows': 1124, 'servant': 1125, 'usual': 1126, 'masser': 1127, 'acre': 1128, 'douglas': 1129, 'until': 1130, 'knew': 1131, 'presently': 1132, 'perfect': 1133, 'always': 1134, 'prize': 1135, 'stockdale': 1136, 'ready': 1137, 'mistress': 1138, 'windows': 1139, 'work': 1140, 'should': 1141, 'possession': 1142, 'stake': 1143, 'day': 1144, 'hope': 1145, 'trifling': 1146, 'crisis': 1147, 'going': 1148, 'black': 1149, 'looking': 1150, 'concession': 1151, 'doin': 1152, 'grim': 1153, 'god': 1154, 'opened': 1155, 'go': 1156, 'papers': 1157, 'knotted': 1158, 'where': 1159, 'named': 1160, 'even': 1161, 'mother': 1162, 'cried': 1163, 'every': 1164, 'yesterday': 1165, 'advice': 1166, 'slip': 1167, 'warned': 1168, 'street': 1169, 'believe': 1170, 'air': 1171, 'question': 1172, 'faithfully': 1173, 'hired': 1174, 'ten': 1175, 'broke': 1176, 'words': 1177, 'armchair': 1178, 'forward': 1179, 'want': 1180, 'off': 1181, 'whether': 1182, 'grasped': 1183, 'opposite': 1184, 'note': 1185, 'walked': 1186, 'for': 1187, 'sherlock': 1188, 'year': 1189, 'send': 1190, 'lord': 1191, 'spoke': 1192, 'queenly': 1193, 'try': 1194, 'truth': 1195, 'biting': 1196, 'erous': 1197, 'standing': 1198, 'dead': 1199, 'feel': 1200, 'burgled': 1201, 'fellow': 1202, 'ended': 1203, 'fate': 1204, 'gleam': 1205, 'stop': 1206, 'tested': 1207, 'sees': 1208, 'drawn': 1209, 'piecing': 1210, 'original': 1211, 'captor': 1212, 'soon': 1213, 'justice': 1214, 'through': 1215, 'susan': 1216, 'funny': 1217, 'age': 1218, 'same': 1219, 'slightly': 1220, 'torture': 1221, 'senseless': 1222, 'missing': 1223, 'observed': 1224, 'genlman': 1225, 'market': 1226, 'certainly': 1227, 'supposing': 1228, 'eyes': 1229, 'nose': 1230, 'money': 1231, 'simple': 1232, 'here': 1233, 'immune': 1234, 'pomposity': 1235, 'which': 1236, 'bar': 1237, 'conquistadors': 1238, 'fighter': 1239, 'in': 1240, 'madame': 1241, 'like': 1242, 'chuckle': 1243, 'mortimer': 1244, 'clue': 1245, 'compound': 1246, 'magistrate': 1247, 'girl': 1248, 'light': 1249, 'done': 1250, 'state': 1251, 'shorter': 1252, 'shrugged': 1253, 'hell': 1254, 'hideous': 1255, 'bearing': 1256, 'quicker': 1257, 'possibly': 1258, 'wait': 1259, 'exactly': 1260, 'coldly': 1261, 'but': 1262, 'earn': 1263, 'brick': 1264, 'scandal': 1265, 'minutes': 1266, 'ever': 1267, 'pocketbook': 1268, 'hero': 1269, 'coolness': 1270, 'yours': 1271, 'suggests': 1272, 'twenty': 1273, 'lonely': 1274, 'need': 1275, 'my': 1276, 'delay': 1277, 'jumped': 1278, 'richest': 1279, 'fragment': 1280, 'offer': 1281, 'person': 1282, 'plan': 1283, 'mornin': 1284, 'west': 1285, 'flushed': 1286, 'complete': 1287, 'made': 1288, 'explain': 1289, 'cases': 1290, 'satisfied': 1291, 'whatever': 1292, 'first': 1293, 'riviera': 1294, 'luck': 1295, 'anyone': 1296, 'exhausted': 1297, 'live': 1298, 'surprise': 1299, 'forty': 1300, 'ungainly': 1301, 'baby': 1302, 'beds': 1303, 'know': 1304, 'stayin': 1305, 'ago': 1306, 'message': 1307, 'decides': 1308, 'seals': 1309, 'burglars': 1310, 'appear': 1311, 'experts': 1312, 'keep': 1313, 'italy': 1314, 'hounds': 1315, 'gate': 1316, 'roguish': 1317, 'joy': 1318, 'pleasant': 1319, 'foolish': 1320, 'only': 1321, 'intrusion': 1322, 'something': 1323, 'boy': 1324, 'threw': 1325, 'rubicund': 1326, 'coquettish': 1327, 'sheet': 1328, 'chloroform': 1329, 'drew': 1330, 'unless': 1331, 'familiar': 1332, 'bore': 1333, 'occurred': 1334, 'masterfui': 1335, 'sutro': 1336, 'law': 1337, 'elderly': 1338, 'you': 1339, 'valuer': 1340, 'sunk': 1341, 'lay': 1342, 'notion': 1343, 'five': 1344, 'fibre': 1345, 'smile': 1346, 'lesson': 1347, 'tion': 1348, 'police': 1349, 'isadora': 1350, 'thoroughly': 1351, 'fellows': 1352, 'are': 1353, 'both': 1354, 'square': 1355, 'believed': 1356, 'crown': 1357, 'telling': 1358, 'private': 1359, 'bought': 1360, 'splendid': 1361, 'flamboyant': 1362, 'turn': 1363, 'its': 1364, 'queer': 1365, 'directed': 1366, 'huge': 1367, 'amazed': 1368, 'glad': 1369, 'three': 1370, 'perkins': 1371, 'card': 1372, 'sit': 1373, 'garden': 1374, 'lad': 1375, 'clearer': 1376, 'proved': 1377, 'view': 1378, 'fresh': 1379, 'occasional': 1380, 'fine': 1381, 'wont': 1382, 'side': 1383, 'unpacked': 1384, 'posted': 1385, 'gather': 1386, 'nearly': 1387, 'while': 1388, 'laughter': 1389, 'cautionary': 1390, 'paragraphs': 1391, 'down': 1392, 'drawing': 1393, 'curled': 1394, 'sooner': 1395, 'shakespeare': 1396, 'inquisitive': 1397, 'other': 1398, 'shake': 1399, 'no': 1400, 'plans': 1401, 'window': 1402, 'handwriting': 1403, 'before': 1404, 'visit': 1405, 'cowed': 1406, 'lie': 1407, 'settee': 1408, 'woke': 1409, 'of': 1410, 'automatic': 1411, 'pages': 1412, 'love': 1413, 'just': 1414, 'bolted': 1415, 'fault': 1416, 'reciprocate': 1417, 'things': 1418, 'chair': 1419, 'bye': 1420, 'clearly': 1421, 'leaders': 1422, 'dial': 1423, 'clear': 1424, 'pounds': 1425, 'possible': 1426, 'examined': 1427, 'bustling': 1428, 'butterfly': 1429, 'activities': 1430, 'beauty': 1431, 'nights': 1432, 'knowledge': 1433, 'without': 1434, 'interest': 1435, 'there': 1436, 'use': 1437}\n"
          ],
          "name": "stdout"
        }
      ]
    },
    {
      "cell_type": "code",
      "metadata": {
        "id": "gL1b7HKXUzdK"
      },
      "source": [
        "X_train, y_train = get_training_example(corpus, 3, w2idx)"
      ],
      "execution_count": null,
      "outputs": []
    },
    {
      "cell_type": "code",
      "metadata": {
        "id": "ed443_zuoMCi"
      },
      "source": [
        "X_train = np.array(X_train)\n",
        "y_train = np.array(y_train)"
      ],
      "execution_count": null,
      "outputs": []
    },
    {
      "cell_type": "code",
      "metadata": {
        "id": "S7n-cXFojETs",
        "colab": {
          "base_uri": "https://localhost:8080/",
          "height": 52
        },
        "outputId": "257452e1-a51e-487c-aeb0-bbd81042b9e5"
      },
      "source": [
        "print(X_train.shape)\n",
        "print(y_train.shape)"
      ],
      "execution_count": null,
      "outputs": [
        {
          "output_type": "stream",
          "text": [
            "(36678, 1438, 1)\n",
            "(36678, 1438, 1)\n"
          ],
          "name": "stdout"
        }
      ]
    },
    {
      "cell_type": "code",
      "metadata": {
        "id": "4ZPy5GjsaDql",
        "colab": {
          "base_uri": "https://localhost:8080/",
          "height": 52
        },
        "outputId": "836c6fbd-1641-43fe-a725-387bd6d8ed31"
      },
      "source": [
        "X_train = np.array(X_train).reshape(1438,36678)\n",
        "print(X_train.shape)\n",
        "y_train = np.array(y_train).reshape(1438,36678)\n",
        "print(y_train.shape)"
      ],
      "execution_count": null,
      "outputs": [
        {
          "output_type": "stream",
          "text": [
            "(1438, 36678)\n",
            "(1438, 36678)\n"
          ],
          "name": "stdout"
        }
      ]
    },
    {
      "cell_type": "code",
      "metadata": {
        "id": "sGwRU4rcaOEC"
      },
      "source": [
        "def Weight_Intialization(V, N):\n",
        "  W1 = np.random.randn(N, V)\n",
        "  b1 = np.random.randn(N, 1)\n",
        "  W2 = np.random.randn(V, N)\n",
        "  b2 = np.random.randn(V, 1)\n",
        "  return W1, b1, W2, b2"
      ],
      "execution_count": null,
      "outputs": []
    },
    {
      "cell_type": "code",
      "metadata": {
        "id": "KL54Kz_VaZYW"
      },
      "source": [
        "def relu(z):\n",
        "  return np.maximum(0, z)"
      ],
      "execution_count": null,
      "outputs": []
    },
    {
      "cell_type": "code",
      "metadata": {
        "id": "UFu66TdBabTw"
      },
      "source": [
        "def softmax(z):\n",
        "  ex = tf.nn.softmax(z)\n",
        "  return ex"
      ],
      "execution_count": null,
      "outputs": []
    },
    {
      "cell_type": "code",
      "metadata": {
        "id": "owUbUTVRbGwR"
      },
      "source": [
        "def forward_pass(x, W1, b1, W2, b2):\n",
        "  Z1 = np.dot(W1, x) + b1\n",
        "  Z1 = relu(Z1)\n",
        "  Z2 = np.dot(W2, Z1) + b2\n",
        "  ypred = softmax(Z2)\n",
        "  return Z1, Z2, ypred"
      ],
      "execution_count": null,
      "outputs": []
    },
    {
      "cell_type": "code",
      "metadata": {
        "id": "QX9kuIcdbJPG"
      },
      "source": [
        "def cost(y, y_pred, m):\n",
        "  error = np.multiply(np.log(y_pred),y)+np.multiply(np.log(1-y_pred),(1-y))\n",
        "  return np.squeeze((-1/m)*np.sum(error))"
      ],
      "execution_count": null,
      "outputs": []
    },
    {
      "cell_type": "code",
      "metadata": {
        "id": "o9S0FRnMbL1u"
      },
      "source": [
        "def back_prop(W1, b1, W2, b2, Z1, Z2, y, ypred, x):\n",
        "  dW1 = np.dot(relu(np.dot(W2.T, ypred - y)), x.T)\n",
        "  db1 = relu(np.dot(W2.T, ypred - y))\n",
        "  dW2 = np.dot(ypred - y, Z1.T)\n",
        "  db2 = ypred - y\n",
        "  return dW1, db1, dW2, db2"
      ],
      "execution_count": null,
      "outputs": []
    },
    {
      "cell_type": "code",
      "metadata": {
        "id": "zm6TjDczbN6d"
      },
      "source": [
        "def model(x, y, epoches = 10, learning_rate = 0.01):\n",
        "  V = x.shape[0]\n",
        "  m = x.shape[1]\n",
        "  n_Hidden = 300\n",
        "  W1, b1, W2, b2 = Weight_Intialization(V, n_Hidden)\n",
        "  error = []\n",
        "  for i in tqdm(range(epoches)):\n",
        "    Z1, Z2, ypred = forward_pass(x, W1, b1, W2, b2)\n",
        "    error.append(cost(y, ypred, m))\n",
        "    dW1, db1, dW2, db2 = back_prop(W1, b1, W2, b2, Z1, Z2, y, ypred, x)\n",
        "    W1 = W1 - learning_rate*dW1\n",
        "    b1 = b1 - learning_rate*db1\n",
        "    W2 = W2 - learning_rate*dW2\n",
        "    b2 = b2 - learning_rate*db2\n",
        "  return ypred, error, W1, W2"
      ],
      "execution_count": null,
      "outputs": []
    },
    {
      "cell_type": "code",
      "metadata": {
        "id": "L6C82CYsbTTg",
        "colab": {
          "base_uri": "https://localhost:8080/",
          "height": 138,
          "referenced_widgets": [
            "e06402cf530c49d6964fde4440733d25",
            "72236d76ec084705bcf8af104f3b6db2",
            "70a96534209848638fdca56ffcf1956b",
            "deab5c3bea0b40c49ff7da5a3105152e",
            "125e80ae2bdb40be84fb58c1e1c0ef29",
            "ea0485c1b2504524bdd4a3a5e0f3636d",
            "2cee144dfaa94fc6929d6e8ea8c0eabe",
            "0cfe2fdaef194721894c84fd13cfa454"
          ]
        },
        "outputId": "248c6ed4-4e8a-46b4-d104-f401b55df4ac"
      },
      "source": [
        "ypred, e, W1, W2 = model(X_train, y_train, 100, 0.001)"
      ],
      "execution_count": null,
      "outputs": [
        {
          "output_type": "stream",
          "text": [
            "/usr/local/lib/python3.6/dist-packages/ipykernel_launcher.py:7: TqdmDeprecationWarning: This function will be removed in tqdm==5.0.0\n",
            "Please use `tqdm.notebook.tqdm` instead of `tqdm.tqdm_notebook`\n",
            "  import sys\n"
          ],
          "name": "stderr"
        },
        {
          "output_type": "display_data",
          "data": {
            "application/vnd.jupyter.widget-view+json": {
              "model_id": "e06402cf530c49d6964fde4440733d25",
              "version_minor": 0,
              "version_major": 2
            },
            "text/plain": [
              "HBox(children=(FloatProgress(value=0.0), HTML(value='')))"
            ]
          },
          "metadata": {
            "tags": []
          }
        },
        {
          "output_type": "stream",
          "text": [
            "\n"
          ],
          "name": "stdout"
        }
      ]
    },
    {
      "cell_type": "code",
      "metadata": {
        "id": "JmTu0VShpAxT"
      },
      "source": [
        "e"
      ],
      "execution_count": null,
      "outputs": []
    },
    {
      "cell_type": "code",
      "metadata": {
        "id": "bRk_hR9XpDC5"
      },
      "source": [
        "w=W1.T+W2"
      ],
      "execution_count": null,
      "outputs": []
    },
    {
      "cell_type": "code",
      "metadata": {
        "id": "h1b0yI0WpLHN"
      },
      "source": [
        ""
      ],
      "execution_count": null,
      "outputs": []
    }
  ]
}